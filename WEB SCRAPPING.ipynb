{
 "cells": [
  {
   "cell_type": "code",
   "execution_count": null,
   "id": "f02c0c0f",
   "metadata": {},
   "outputs": [],
   "source": [
    "!pip install bs4\n",
    "!pip install requests\n"
   ]
  },
  {
   "cell_type": "code",
   "execution_count": null,
   "id": "027f8455",
   "metadata": {},
   "outputs": [],
   "source": [
    "from bs4 import BeautifulSoup\n",
    "import requests\n",
    "import pandas as pd"
   ]
  },
  {
   "cell_type": "markdown",
   "id": "51dbe050",
   "metadata": {},
   "source": [
    " # 1)  program to display all the header tags from wikipedia.org."
   ]
  },
  {
   "cell_type": "code",
   "execution_count": null,
   "id": "c908c782",
   "metadata": {},
   "outputs": [],
   "source": [
    "link='https://www.wikipedia.org/'\n",
    "req=requests.get(link)\n",
    "bs=BeautifulSoup(req.text,'lxml')\n",
    "print('list of header tags :')\n",
    "for heading in bs.find_all(['h1','h2','h3']):\n",
    "    print(heading.name +' '+ heading.text.strip())"
   ]
  },
  {
   "cell_type": "markdown",
   "id": "62d2c016",
   "metadata": {},
   "source": [
    " # 2) program to display IMDB’s Top rated 100 movies’ data (i.e. name, rating, year of release) and make data frame."
   ]
  },
  {
   "cell_type": "code",
   "execution_count": null,
   "id": "e98bbbb4",
   "metadata": {},
   "outputs": [],
   "source": [
    "page=requests.get('https://www.imdb.com/chart/top')\n",
    "page\n",
    "\n",
    "# page.content\n",
    "\n",
    "sp=BeautifulSoup(page.content,\"html.parser\")\n",
    "#print(sp.prettify())\n",
    "\n",
    "emov=sp.find_all('td', class_='titleColumn')\n",
    "emov\n",
    "\n",
    "movies=[]\n",
    "for movie in emov:\n",
    "    movie=movie.get_text().replace('\\n',\"\")\n",
    "    movie=movie.strip(\" \")\n",
    "    movies.append(movie)\n",
    "movies\n",
    "\n",
    "rat=sp.find_all('td', class_='ratingColumn imdbRating')\n",
    "rat\n",
    "\n",
    "ratings=[]\n",
    "for rating in rat:\n",
    "    rating=rating.get_text().replace('\\n',\"\")\n",
    "    rating=rating.strip(\" \")\n",
    "    ratings.append(rating)\n",
    "ratings\n",
    "\n",
    "df=pd.DataFrame()\n",
    "df['Movie Name']=movies\n",
    "df['Rating']=ratings\n",
    "df.head(100)"
   ]
  },
  {
   "cell_type": "markdown",
   "id": "057f11f0",
   "metadata": {},
   "source": [
    "# 3) program to display IMDB’s Top rated 100 Indian movies’ data (i.e. name, rating, year of release) and make data frame."
   ]
  },
  {
   "cell_type": "code",
   "execution_count": null,
   "id": "72b0267d",
   "metadata": {},
   "outputs": [],
   "source": [
    "page=requests.get('https://www.imdb.com/list/ls009997493/')\n",
    "page\n",
    "\n",
    "bp=BeautifulSoup(page.content,\"html.parser\")\n",
    "#print(bp.prettify())\n",
    "\n",
    "hmovi=bp.find_all('div', class_='lister-item mode-detail')\n",
    "hmovi\n",
    "\n",
    "hmovies=[]\n",
    "for movie in hmovi:\n",
    "    movie=movie.get_text().replace('\\n',\"\")\n",
    "    movie=movie.strip(\" \")\n",
    "    hmovies.append(movie)\n",
    "#hmovies\n",
    "\n",
    "hrat=bp.find_all('div', class_='ipl-rating-widget')\n",
    "hrat\n",
    "\n",
    "hratings=[]\n",
    "for rating in hrat:\n",
    "    rating=rating.get_text().replace('\\n',\" \")\n",
    "    rating=rating.strip(\" \")\n",
    "    hratings.append(rating)\n",
    "#hratings\n",
    "\n",
    "df=pd.DataFrame()\n",
    "df['Movie Name']=hmovies\n",
    "df['Rating']=hratings\n",
    "df.head(100)"
   ]
  },
  {
   "cell_type": "markdown",
   "id": "a5edac11",
   "metadata": {},
   "source": [
    "# 4) program to scrape product name, price and discounts from https://meesho.com/bags\u0002ladies/pl/p7vbp ."
   ]
  },
  {
   "cell_type": "code",
   "execution_count": null,
   "id": "14eec5c7",
   "metadata": {},
   "outputs": [],
   "source": [
    "page=requests.get('https://meesho.com/bags%02ladies/pl/p7vbp/')\n",
    "page"
   ]
  },
  {
   "cell_type": "code",
   "execution_count": null,
   "id": "54f95b59",
   "metadata": {},
   "outputs": [],
   "source": [
    "soup=BeautifulSoup(page.content)\n",
    "soup"
   ]
  },
  {
   "cell_type": "code",
   "execution_count": null,
   "id": "4953991e",
   "metadata": {},
   "outputs": [],
   "source": [
    "product=[]\n",
    "price=[]\n",
    "discount=[]\n",
    "product=soup.find('div',attrs={'class':'Card__BaseCard-sc-b3n78k-0 dUNFgg NewProductCard__DetailCard_Desktop-sc-j0e7tu-2 fqvaeS NewProductCard__DetailCard_Desktop-sc-j0e7tu-2 fqvaeS'})\n",
    "print(product.text)"
   ]
  },
  {
   "cell_type": "markdown",
   "id": "083da082",
   "metadata": {},
   "source": [
    "# 5)Write a python program to scrape cricket rankings from icc-cricket.com. You have to scrape:\n",
    "a) Top 10 ODI teams in men’s cricket along with the records for matches, points and rating.\n",
    "b) Top 10 ODI Batsmen along with the records of their team and rating.\n",
    "c) Top 10 ODI bowlers along with the records of their team and rating."
   ]
  },
  {
   "cell_type": "code",
   "execution_count": null,
   "id": "051fac53",
   "metadata": {},
   "outputs": [],
   "source": [
    "page=requests.get( 'https://www.icc-cricket.com/rankings/mens/team-rankings/odi')\n",
    "page"
   ]
  },
  {
   "cell_type": "code",
   "execution_count": null,
   "id": "a5a7ca9a",
   "metadata": {},
   "outputs": [],
   "source": [
    "soup=BeautifulSoup(page.content,'html.parser')\n",
    "print(soup.prettify())"
   ]
  },
  {
   "cell_type": "code",
   "execution_count": null,
   "id": "90b973c1",
   "metadata": {},
   "outputs": [],
   "source": [
    "oteam=[]\n",
    "omatches=[]\n",
    "opoints=[]\n",
    "orating=[]\n",
    "for i in soup.find_all('div',attrs={'class':'rankings-block__container full rankings-table'}):\n",
    "    teams=i.find('span',attrs={'class':'u-hide-phablet'})\n",
    "    matches=i.find('td',attrs={'class':'table-body__cell u-center-text'})\n",
    "    point=i.find('td',attrs={'class':'rankings-block__banner--points'})\n",
    "    rating=i.find('td',attrs={'class':'table-body__cell u-text-right rating'})\n",
    "    oteam.append(teams.text)\n",
    "    omatches.append(matches.text)\n",
    "    opoints.append(point.text)\n",
    "    orating.append(rating.text)"
   ]
  },
  {
   "cell_type": "markdown",
   "id": "8f52c5b9",
   "metadata": {},
   "source": [
    "# 7) Write a python program to scrape details of all the posts from coreyms.com. Scrape the heading, date, content\n",
    "and the code for the video from the link for the youtube video from the post."
   ]
  },
  {
   "cell_type": "code",
   "execution_count": null,
   "id": "c01670ee",
   "metadata": {},
   "outputs": [],
   "source": [
    "page=requests.get('https://coreyms.com/')\n",
    "page"
   ]
  },
  {
   "cell_type": "code",
   "execution_count": null,
   "id": "8ec0033e",
   "metadata": {},
   "outputs": [],
   "source": [
    "soup=BeautifulSoup(page.content,'html.parser')\n",
    "soup"
   ]
  },
  {
   "cell_type": "code",
   "execution_count": null,
   "id": "95e48ec0",
   "metadata": {},
   "outputs": [],
   "source": [
    "heading=soup.find('a',class_='entry-title-link')\n",
    "heading.text"
   ]
  },
  {
   "cell_type": "code",
   "execution_count": null,
   "id": "a26223fa",
   "metadata": {},
   "outputs": [],
   "source": [
    "date=soup.find('time',class_='entry-time')\n",
    "date.text"
   ]
  },
  {
   "cell_type": "code",
   "execution_count": null,
   "id": "8ed6c5af",
   "metadata": {},
   "outputs": [],
   "source": [
    "content=soup.find('div',class_='entry-content')\n",
    "content.text.replace('\\n',\" \")"
   ]
  },
  {
   "cell_type": "code",
   "execution_count": null,
   "id": "9de60d3a",
   "metadata": {},
   "outputs": [],
   "source": [
    "link=soup.find('a',href=True,attrs={'class':'ytp-title-link yt-uix-sessionlink'})\n",
    "link.text"
   ]
  },
  {
   "cell_type": "markdown",
   "id": "f8972e6c",
   "metadata": {},
   "source": [
    "# 8) Write a python program to scrape house details from mentioned URL. It should include house title, location,\n",
    "area, EMI and price from https://www.nobroker.in/ .Enter three localities which are Indira Nagar, Jayanagar, \n",
    "Rajaji Nagar."
   ]
  },
  {
   "cell_type": "code",
   "execution_count": null,
   "id": "e6c70108",
   "metadata": {},
   "outputs": [],
   "source": [
    "page=requests.get('https://www.nobroker.in/property/sale/hyderabad/Indira%20Nagar?searchParam=W3sibGF0IjoxNy40NDc0NDc1LCJsb24iOjc4LjM1NjkyNzUsInBsYWNlSWQiOiJDaElKZzVwcF9KU1R5enNSaHBYNzU2M2VkX2ciLCJwbGFjZU5hbWUiOiJJbmRpcmEgTmFnYXIifV0=&radius=2.0&type=BHK2&propertyAge=0&city=hyderabad&locality=Indira%20Nagar')\n",
    "page"
   ]
  },
  {
   "cell_type": "code",
   "execution_count": null,
   "id": "55c39baf",
   "metadata": {},
   "outputs": [],
   "source": [
    "soup=BeautifulSoup(page.content,'html.parser')\n",
    "print(soup.prettify())"
   ]
  },
  {
   "cell_type": "code",
   "execution_count": null,
   "id": "4d1bd1fe",
   "metadata": {},
   "outputs": [],
   "source": [
    "ind_flat_title=soup.find('h2',class_='heading-6 flex items-center font-semi-bold m-0')\n",
    "ind_flat_title.text"
   ]
  },
  {
   "cell_type": "code",
   "execution_count": null,
   "id": "4428f35b",
   "metadata": {},
   "outputs": [],
   "source": [
    "ind_flat_loc=soup.find('div',class_='mt-0.5p overflow-hidden overflow-ellipsis whitespace-nowrap max-w-70 text-gray-light leading-4 po:mb-0 po:max-w-95')\n",
    "ind_flat_loc.text"
   ]
  },
  {
   "cell_type": "code",
   "execution_count": null,
   "id": "e9a63508",
   "metadata": {},
   "outputs": [],
   "source": [
    "ind_flat_area=soup.find('div',class_='nb__1q9R8')\n",
    "ind_flat_area.text"
   ]
  },
  {
   "cell_type": "code",
   "execution_count": null,
   "id": "81597e38",
   "metadata": {},
   "outputs": [],
   "source": [
    "ind_flat_price=soup.find('div', class_='heading-6 font-semi-bol')\n",
    "ind_flat_price.text"
   ]
  },
  {
   "cell_type": "markdown",
   "id": "639e49b4",
   "metadata": {},
   "source": [
    "# 9) program to scrape mentioned details from dineout.co.in :\n",
    "i) Restaurant name\n",
    "ii) Cuisine\n",
    "iii) Location\n",
    "iv) Ratings\n",
    "v) Image URL"
   ]
  },
  {
   "cell_type": "code",
   "execution_count": null,
   "id": "ec69cc8d",
   "metadata": {},
   "outputs": [],
   "source": [
    "page=requests.get('https://www.dineout.co.in/delhi-restaurants/value-for-money')\n",
    "page"
   ]
  },
  {
   "cell_type": "code",
   "execution_count": null,
   "id": "fa4fca1b",
   "metadata": {},
   "outputs": [],
   "source": [
    "soup=BeautifulSoup(page.content,'html.parser')\n",
    "print(soup.prettify())"
   ]
  },
  {
   "cell_type": "code",
   "execution_count": null,
   "id": "d39e119d",
   "metadata": {},
   "outputs": [],
   "source": [
    "res_name=soup.find('div',class_='restnt-info cursor')\n",
    "res_name.text"
   ]
  },
  {
   "cell_type": "code",
   "execution_count": null,
   "id": "8c076587",
   "metadata": {},
   "outputs": [],
   "source": [
    "res_loc=soup.find('div',class_='restnt-loc ellipsis')\n",
    "res_loc.text"
   ]
  },
  {
   "cell_type": "code",
   "execution_count": null,
   "id": "3b6a1c22",
   "metadata": {},
   "outputs": [],
   "source": [
    "res_cui=soup.find('span', class_='double-line-ellipsis')\n",
    "res_cui.text"
   ]
  },
  {
   "cell_type": "code",
   "execution_count": null,
   "id": "7e83c1d2",
   "metadata": {},
   "outputs": [],
   "source": [
    "res_rat=soup.find('div',class_='restnt-rating rating-4')\n",
    "res_rat.text"
   ]
  },
  {
   "cell_type": "code",
   "execution_count": null,
   "id": "c093d99e",
   "metadata": {},
   "outputs": [],
   "source": [
    "img_url=soup.find('img',class_='no-img')\n",
    "img_url"
   ]
  },
  {
   "cell_type": "markdown",
   "id": "613520ae",
   "metadata": {},
   "source": [
    "# 10) program to scrape first 10 product details which include product name , price , Image URL from\n",
    "https://www.bewakoof.com/women-tshirts?ga_q=tshirts ."
   ]
  },
  {
   "cell_type": "code",
   "execution_count": null,
   "id": "a9c96b3a",
   "metadata": {},
   "outputs": [],
   "source": [
    "page=requests.get('https://www.bewakoof.com/women-tshirts?ga_q=tshirts')\n",
    "page\n",
    "\n",
    "soup=BeautifulSoup(page.content,'html.parser')\n",
    "#print(soup.prettify())\n",
    "\n",
    "#first_name=soup.find('div',class_='productCardDetail')\n",
    "#first_name.text\n",
    "\n",
    "#first_price=soup.find('div', class_='productPriceBox clearfix')\n",
    "#first_price.text.replace('₹','')\n",
    "\n",
    "pname=[]\n",
    "for i in soup.find_all('div',class_='productCardDetail'):\n",
    "    pname.append(i.text.replace('₹',''))\n",
    "pname"
   ]
  },
  {
   "cell_type": "code",
   "execution_count": null,
   "id": "7f9191fa",
   "metadata": {},
   "outputs": [],
   "source": [
    "images=[]\n",
    "for i in soup.find_all('img',class_='productImgTag'):\n",
    "    images.append(i['src'])\n",
    "images"
   ]
  }
 ],
 "metadata": {
  "kernelspec": {
   "display_name": "Python 3",
   "language": "python",
   "name": "python3"
  },
  "language_info": {
   "codemirror_mode": {
    "name": "ipython",
    "version": 3
   },
   "file_extension": ".py",
   "mimetype": "text/x-python",
   "name": "python",
   "nbconvert_exporter": "python",
   "pygments_lexer": "ipython3",
   "version": "3.8.8"
  }
 },
 "nbformat": 4,
 "nbformat_minor": 5
}
