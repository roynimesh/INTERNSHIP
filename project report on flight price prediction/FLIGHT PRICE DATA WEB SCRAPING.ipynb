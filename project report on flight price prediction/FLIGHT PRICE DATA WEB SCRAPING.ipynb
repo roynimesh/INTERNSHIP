{
 "cells": [
  {
   "cell_type": "code",
   "execution_count": null,
   "id": "fd14b05d",
   "metadata": {},
   "outputs": [],
   "source": [
    "import selenium\n",
    "from selenium import webdriver\n",
    "from selenium.webdriver.chrome.options import Options\n",
    "from webdriver_manager.chrome import ChromeDriverManager\n",
    "from selenium.webdriver.common.by import By\n",
    "import time\n",
    "from time import sleep\n",
    "import pandas as pd\n",
    "import warnings\n",
    "warnings.filterwarnings(\"ignore\")"
   ]
  },
  {
   "cell_type": "code",
   "execution_count": null,
   "id": "fed302d1",
   "metadata": {},
   "outputs": [],
   "source": [
    "driver=webdriver.Chrome(r'/Users/nimeshroy/Downloads/chromedriver')\n",
    "driver.get(\"https://www.makemytrip.com/flight/search?itinerary=DEL-BLR-25/06/2022&tripType=O&paxType=A-1_C-0_I-0&intl=false&cabinClass=E&ccde=IN&lang=eng\")\n",
    "time.sleep(2)  # Allow 2 seconds for the web page to open\n",
    "scroll_pause_time = 1 # You can set your own pause time. My laptop is a bit slow so I use 1 sec\n",
    "screen_height = driver.execute_script(\"return window.screen.height;\")   # get the screen height of the web\n",
    "i = 1\n",
    "\n",
    "while True:\n",
    "    # scroll one screen height each time\n",
    "    driver.execute_script(\"window.scrollTo(0, {screen_height}*{i});\".format(screen_height=screen_height, i=i))  \n",
    "    i += 1\n",
    "    time.sleep(scroll_pause_time)\n",
    "    # update scroll height each time after scrolled, as the scroll height can change after we scrolled the page\n",
    "    scroll_height = driver.execute_script(\"return document.body.scrollHeight;\")  \n",
    "    # Break the loop when the height we need to scroll to is larger than the total scroll height\n",
    "    if (screen_height) * i > scroll_height:\n",
    "        break"
   ]
  },
  {
   "cell_type": "code",
   "execution_count": null,
   "id": "8c56880a",
   "metadata": {},
   "outputs": [],
   "source": [
    "flight=[]\n",
    "fl=driver.find_elements(By.XPATH,'//p[contains(@class,\"boldFont blackText airlineName\")]')\n",
    "for f in fl:\n",
    "    print(f.text)\n",
    "    flight.append(f.text)\n",
    "\n",
    "\n",
    "flightno=[]\n",
    "no=driver.find_elements(By.XPATH,'//p[contains(@class,\"fliCode\")]')\n",
    "for n in no:\n",
    "    print(n.text)\n",
    "    flightno.append(n.text)\n",
    "\n",
    "\n",
    "route=[]\n",
    "ro=driver.find_elements(By.XPATH,'//p[contains(@class,\"darkText\")]')\n",
    "for r in ro:\n",
    "    print(r.text)\n",
    "    route.append(r.text)\n",
    "\n",
    "\n",
    "time=[]\n",
    "ti=driver.find_elements(By.XPATH,'//p[contains(@class,\"blackText fontSize18 blackFont appendBottom2 makeFlex hrtlCenter\")]')\n",
    "for t in ti:\n",
    "    print(t.text)\n",
    "    time.append(t.text)\n",
    "\n",
    "\n",
    "stop=[]\n",
    "st=driver.find_elements(By.XPATH,'//p[contains(@class,\"flightsLayoverInfo\")]')\n",
    "for s in st:\n",
    "    print(s.text)\n",
    "    stop.append(s.text)\n",
    "\n",
    "\n",
    "fare=[]\n",
    "fa=driver.find_elements(By.XPATH,'//p[contains(@class,\"blackText fontSize18 blackFont white-space-no-wrap\")]')\n",
    "for f in fa:\n",
    "    c=f.text.replace('₹','')\n",
    "    fare.append(c.replace('',''))\n"
   ]
  },
  {
   "cell_type": "code",
   "execution_count": null,
   "id": "575f05d2",
   "metadata": {},
   "outputs": [],
   "source": [
    "len(flight),len(flightno),len(route),len(time),len(stop),len(fare)"
   ]
  },
  {
   "cell_type": "code",
   "execution_count": null,
   "id": "9065a8ad",
   "metadata": {},
   "outputs": [],
   "source": [
    "fl1=driver.find_elements(By.XPATH,'//p[contains(@class,\"boldFont blackText airlineName\")]')\n",
    "for f1 in fl1:\n",
    "    print(f1.text)\n",
    "    flight.append(f1.text)\n",
    "\n",
    "\n",
    "no1=driver.find_elements(By.XPATH,'//p[contains(@class,\"fliCode\")]')\n",
    "for n1 in no1:\n",
    "    print(n1.text)\n",
    "    flightno.append(n1.text)\n",
    "\n",
    "\n",
    "ro1=driver.find_elements(By.XPATH,'//p[contains(@class,\"darkText\")]')\n",
    "for r1 in ro1:\n",
    "    print(r1.text)\n",
    "    route.append(r1.text)\n",
    "\n",
    "\n",
    "ti1=driver.find_elements(By.XPATH,'//p[contains(@class,\"blackText fontSize18 blackFont appendBottom2 makeFlex hrtlCenter\")]')\n",
    "for t1 in ti1:\n",
    "    print(t1.text)\n",
    "    time.append(t1.text)\n",
    "\n",
    "\n",
    "\n",
    "st1=driver.find_elements(By.XPATH,'//p[contains(@class,\"flightsLayoverInfo\")]')\n",
    "for s1 in st1:\n",
    "    print(s1.text)\n",
    "    stop.append(s1.text)\n",
    "\n",
    "\n",
    "fa1=driver.find_elements(By.XPATH,'//p[contains(@class,\"blackText fontSize18 blackFont white-space-no-wrap\")]')\n",
    "for f1 in fa1:\n",
    "    c=f1.text.replace('₹','')\n",
    "    fare.append(c.replace('',''))\n"
   ]
  },
  {
   "cell_type": "code",
   "execution_count": null,
   "id": "bfb7e24c",
   "metadata": {},
   "outputs": [],
   "source": [
    "len(flightno),len(route),len(time),len(stop),len(fare)"
   ]
  },
  {
   "cell_type": "code",
   "execution_count": null,
   "id": "c7275c2a",
   "metadata": {},
   "outputs": [],
   "source": [
    "fl2=driver.find_elements(By.XPATH,'//p[contains(@class,\"boldFont blackText airlineName\")]')\n",
    "for f2 in fl2:\n",
    "    print(f2.text)\n",
    "    flight.append(f2.text)\n",
    "\n",
    "\n",
    "no2=driver.find_elements(By.XPATH,'//p[contains(@class,\"fliCode\")]')\n",
    "for n2 in no2:\n",
    "    print(n2.text)\n",
    "    flightno.append(n2.text)\n",
    "\n",
    "\n",
    "ro2=driver.find_elements(By.XPATH,'//p[contains(@class,\"darkText\")]')\n",
    "for r2 in ro2:\n",
    "    print(r2.text)\n",
    "    route.append(r2.text)\n",
    "\n",
    "\n",
    "ti2=driver.find_elements(By.XPATH,'//p[contains(@class,\"blackText fontSize18 blackFont appendBottom2 makeFlex hrtlCenter\")]')\n",
    "for t2 in ti2:\n",
    "    print(t2.text)\n",
    "    time.append(t2.text)\n",
    "\n",
    "\n",
    "st2=driver.find_elements(By.XPATH,'//p[contains(@class,\"flightsLayoverInfo\")]')\n",
    "for s2 in st2:\n",
    "    print(s2.text)\n",
    "    stop.append(s2.text)\n",
    "\n",
    "fa2=driver.find_elements(By.XPATH,'//p[contains(@class,\"blackText fontSize18 blackFont white-space-no-wrap\")]')\n",
    "for f2 in fa2:\n",
    "    c=f2.text.replace('₹','')\n",
    "    fare.append(c.replace('',''))\n"
   ]
  },
  {
   "cell_type": "code",
   "execution_count": null,
   "id": "2ff5bfcc",
   "metadata": {},
   "outputs": [],
   "source": [
    "len(flight),len(flightno),len(route),len(time),len(stop),len(fare)"
   ]
  },
  {
   "cell_type": "code",
   "execution_count": null,
   "id": "ea11a6d2",
   "metadata": {},
   "outputs": [],
   "source": [
    "fl3=driver.find_elements(By.XPATH,'//p[contains(@class,\"boldFont blackText airlineName\")]')\n",
    "for f3 in fl3:\n",
    "    print(f3.text)\n",
    "    flight.append(f3.text)\n",
    "\n",
    "\n",
    "no3=driver.find_elements(By.XPATH,'//p[contains(@class,\"fliCode\")]')\n",
    "for n3 in no3:\n",
    "    print(n3.text)\n",
    "    flightno.append(n3.text)\n",
    "\n",
    "\n",
    "ro3=driver.find_elements(By.XPATH,'//p[contains(@class,\"darkText\")]')\n",
    "for r3 in ro3:\n",
    "    print(r3.text)\n",
    "    route.append(r3.text)\n",
    "\n",
    "\n",
    "ti3=driver.find_elements(By.XPATH,'//p[contains(@class,\"blackText fontSize18 blackFont appendBottom2 makeFlex hrtlCenter\")]')\n",
    "for t3 in ti3:\n",
    "    print(t3.text)\n",
    "    time.append(t3.text)\n",
    "\n",
    "\n",
    "st3=driver.find_elements(By.XPATH,'//p[contains(@class,\"flightsLayoverInfo\")]')\n",
    "for s3 in st3:\n",
    "    print(s3.text)\n",
    "    stop.append(s3.text)\n",
    "\n",
    "\n",
    "fa3=driver.find_elements(By.XPATH,'//p[contains(@class,\"blackText fontSize18 blackFont white-space-no-wrap\")]')\n",
    "for f3 in fa3:\n",
    "    c=f3.text.replace('₹','')\n",
    "    fare.append(c.replace('',''))\n"
   ]
  },
  {
   "cell_type": "code",
   "execution_count": null,
   "id": "2c914fa8",
   "metadata": {},
   "outputs": [],
   "source": [
    "len(flight),len(flightno),len(route),len(time),len(stop),len(fare)"
   ]
  },
  {
   "cell_type": "code",
   "execution_count": null,
   "id": "11fa318d",
   "metadata": {},
   "outputs": [],
   "source": [
    "fl4=driver.find_elements(By.XPATH,'//p[contains(@class,\"boldFont blackText airlineName\")]')\n",
    "for f4 in fl4:\n",
    "    print(f4.text)\n",
    "    flight.append(f4.text)\n",
    "\n",
    "\n",
    "no4=driver.find_elements(By.XPATH,'//p[contains(@class,\"fliCode\")]')\n",
    "for n4 in no4:\n",
    "    print(n4.text)\n",
    "    flightno.append(n4.text)\n",
    "\n",
    "\n",
    "ro4=driver.find_elements(By.XPATH,'//p[contains(@class,\"darkText\")]')\n",
    "for r4 in ro4:\n",
    "    print(r4.text)\n",
    "    route.append(r4.text)\n",
    "\n",
    "\n",
    "ti4=driver.find_elements(By.XPATH,'//p[contains(@class,\"blackText fontSize18 blackFont appendBottom2 makeFlex hrtlCenter\")]')\n",
    "for t4 in ti4:\n",
    "    print(t4.text)\n",
    "    time.append(t4.text)\n",
    "\n",
    "\n",
    "st4=driver.find_elements(By.XPATH,'//p[contains(@class,\"flightsLayoverInfo\")]')\n",
    "for s4 in st4:\n",
    "    print(s4.text)\n",
    "    stop.append(s4.text)\n",
    "\n",
    "\n",
    "fa4=driver.find_elements(By.XPATH,'//p[contains(@class,\"blackText fontSize18 blackFont white-space-no-wrap\")]')\n",
    "for f4 in fa4:\n",
    "    c=f4.text.replace('₹','')\n",
    "    fare.append(c.replace('',''))\n",
    "    \n"
   ]
  },
  {
   "cell_type": "code",
   "execution_count": null,
   "id": "cd01cfa2",
   "metadata": {},
   "outputs": [],
   "source": [
    "len(flight),len(flightno),len(route),len(time),len(stop),len(fare)"
   ]
  },
  {
   "cell_type": "code",
   "execution_count": null,
   "id": "e194e798",
   "metadata": {},
   "outputs": [],
   "source": [
    "fl5=driver.find_elements(By.XPATH,'//p[contains(@class,\"boldFont blackText airlineName\")]')\n",
    "for f5 in fl5:\n",
    "    print(f5.text)\n",
    "    flight.append(f5.text)\n",
    "\n",
    "\n",
    "no5=driver.find_elements(By.XPATH,'//p[contains(@class,\"fliCode\")]')\n",
    "for n5 in no5:\n",
    "    print(n5.text)\n",
    "    flightno.append(n5.text)\n",
    "\n",
    "\n",
    "\n",
    "ro5=driver.find_elements(By.XPATH,'//p[contains(@class,\"darkText\")]')\n",
    "for r5 in ro5:\n",
    "    print(r5.text)\n",
    "    route.append(r5.text)\n",
    "\n",
    "\n",
    "ti5=driver.find_elements(By.XPATH,'//p[contains(@class,\"blackText fontSize18 blackFont appendBottom2 makeFlex hrtlCenter\")]')\n",
    "for t5 in ti5:\n",
    "    print(t5.text)\n",
    "    time.append(t5.text)\n",
    "\n",
    "\n",
    "st5=driver.find_elements(By.XPATH,'//p[contains(@class,\"flightsLayoverInfo\")]')\n",
    "for s5 in st5:\n",
    "    print(s5.text)\n",
    "    stop.append(s5.text)\n",
    "\n",
    "\n",
    "fa5=driver.find_elements(By.XPATH,'//p[contains(@class,\"blackText fontSize18 blackFont white-space-no-wrap\")]')\n",
    "for f5 in fa5:\n",
    "    c=f5.text.replace('₹','')\n",
    "    fare.append(c.replace('',''))\n"
   ]
  },
  {
   "cell_type": "code",
   "execution_count": null,
   "id": "1d88522e",
   "metadata": {},
   "outputs": [],
   "source": [
    "len(flight),len(flightno),len(route),len(time),len(stop),len(fare)"
   ]
  },
  {
   "cell_type": "code",
   "execution_count": null,
   "id": "4e9be6ce",
   "metadata": {
    "scrolled": true
   },
   "outputs": [],
   "source": [
    "fl6=driver.find_elements(By.XPATH,'//p[contains(@class,\"boldFont blackText airlineName\")]')\n",
    "for f6 in fl6:\n",
    "    print(f6.text)\n",
    "    flight.append(f6.text)\n",
    "\n",
    "\n",
    "no6=driver.find_elements(By.XPATH,'//p[contains(@class,\"fliCode\")]')\n",
    "for n6 in no6:\n",
    "    print(n6.text)\n",
    "    flightno.append(n6.text)\n",
    "\n",
    "\n",
    "ro6=driver.find_elements(By.XPATH,'//p[contains(@class,\"darkText\")]')\n",
    "for r6 in ro6:\n",
    "    print(r6.text)\n",
    "    route.append(r6.text)\n",
    "\n",
    "\n",
    "ti6=driver.find_elements(By.XPATH,'//p[contains(@class,\"blackText fontSize18 blackFont appendBottom2 makeFlex hrtlCenter\")]')\n",
    "for t6 in ti6:\n",
    "    print(t6.text)\n",
    "    time.append(t6.text)\n",
    "\n",
    "\n",
    "st6=driver.find_elements(By.XPATH,'//p[contains(@class,\"flightsLayoverInfo\")]')\n",
    "for s6 in st6:\n",
    "    print(s6.text)\n",
    "    stop.append(s6.text)\n",
    "\n",
    "\n",
    "fa6=driver.find_elements(By.XPATH,'//p[contains(@class,\"blackText fontSize18 blackFont white-space-no-wrap\")]')\n",
    "for f6 in fa6:\n",
    "    c=f6.text.replace('₹','')\n",
    "    fare.append(c.replace('',''))\n"
   ]
  },
  {
   "cell_type": "code",
   "execution_count": null,
   "id": "7c649da6",
   "metadata": {
    "scrolled": true
   },
   "outputs": [],
   "source": [
    "len(flight),len(flightno),len(route),len(time),len(stop),len(fare)"
   ]
  },
  {
   "cell_type": "code",
   "execution_count": null,
   "id": "4bf25c01",
   "metadata": {},
   "outputs": [],
   "source": [
    "fl7=driver.find_elements(By.XPATH,'//p[contains(@class,\"boldFont blackText airlineName\")]')\n",
    "for f7 in fl7:\n",
    "    print(f7.text)\n",
    "    flight.append(f7.text)\n",
    "\n",
    "\n",
    "no7=driver.find_elements(By.XPATH,'//p[contains(@class,\"fliCode\")]')\n",
    "for n7 in no7:\n",
    "    print(n7.text)\n",
    "    flightno.append(n7.text)\n",
    "\n",
    "\n",
    "ro7=driver.find_elements(By.XPATH,'//p[contains(@class,\"darkText\")]')\n",
    "for r7 in ro7:\n",
    "    print(r7.text)\n",
    "    route.append(r7.text)\n",
    "\n",
    "\n",
    "ti7=driver.find_elements(By.XPATH,'//p[contains(@class,\"blackText fontSize18 blackFont appendBottom2 makeFlex hrtlCenter\")]')\n",
    "for t7 in ti7:\n",
    "    print(t7.text)\n",
    "    time.append(t7.text)\n",
    "\n",
    "\n",
    "st7=driver.find_elements(By.XPATH,'//p[contains(@class,\"flightsLayoverInfo\")]')\n",
    "for s7 in st7:\n",
    "    print(s7.text)\n",
    "    stop.append(s7.text)\n",
    "\n",
    "\n",
    "fa7=driver.find_elements(By.XPATH,'//p[contains(@class,\"blackText fontSize18 blackFont white-space-no-wrap\")]')\n",
    "for f7 in fa7:\n",
    "    c=f7.text.replace('₹','')\n",
    "    fare.append(c.replace('',''))\n"
   ]
  },
  {
   "cell_type": "code",
   "execution_count": null,
   "id": "458c2dab",
   "metadata": {},
   "outputs": [],
   "source": [
    "len(flight),len(flightno),len(route),len(time),len(stop),len(fare)"
   ]
  },
  {
   "cell_type": "code",
   "execution_count": null,
   "id": "9a3e7268",
   "metadata": {},
   "outputs": [],
   "source": [
    "fl8=driver.find_elements(By.XPATH,'//p[contains(@class,\"boldFont blackText airlineName\")]')\n",
    "for f8 in fl8:\n",
    "    print(f8.text)\n",
    "    flight.append(f8.text)\n",
    "\n",
    "\n",
    "no8=driver.find_elements(By.XPATH,'//p[contains(@class,\"fliCode\")]')\n",
    "for n8 in no8:\n",
    "    print(n8.text)\n",
    "    flightno.append(n8.text)\n",
    "\n",
    "\n",
    "ro8=driver.find_elements(By.XPATH,'//p[contains(@class,\"darkText\")]')\n",
    "for r8 in ro8:\n",
    "    print(r8.text)\n",
    "    route.append(r8.text)\n",
    "\n",
    "\n",
    "ti8=driver.find_elements(By.XPATH,'//p[contains(@class,\"blackText fontSize18 blackFont appendBottom2 makeFlex hrtlCenter\")]')\n",
    "for t8 in ti8:\n",
    "    print(t8.text)\n",
    "    time.append(t8.text)\n",
    "\n",
    "\n",
    "st8=driver.find_elements(By.XPATH,'//p[contains(@class,\"flightsLayoverInfo\")]')\n",
    "for s8 in st8:\n",
    "    print(s8.text)\n",
    "    stop.append(s8.text)\n",
    "\n",
    "\n",
    "fa8=driver.find_elements(By.XPATH,'//p[contains(@class,\"blackText fontSize18 blackFont white-space-no-wrap\")]')\n",
    "for f8 in fa8:\n",
    "    c=f8.text.replace('₹','')\n",
    "    fare.append(c.replace('',''))"
   ]
  },
  {
   "cell_type": "code",
   "execution_count": null,
   "id": "da842899",
   "metadata": {},
   "outputs": [],
   "source": [
    "len(flight),len(flightno),len(route),len(time),len(stop),len(fare)"
   ]
  },
  {
   "cell_type": "code",
   "execution_count": null,
   "id": "67bad8d8",
   "metadata": {},
   "outputs": [],
   "source": [
    "fl9=driver.find_elements(By.XPATH,'//p[contains(@class,\"boldFont blackText airlineName\")]')\n",
    "for f9 in fl9:\n",
    "    print(f9.text)\n",
    "    flight.append(f9.text)\n",
    "\n",
    "\n",
    "no9=driver.find_elements(By.XPATH,'//p[contains(@class,\"fliCode\")]')\n",
    "for n9 in no9:\n",
    "    print(n9.text)\n",
    "    flightno.append(n9.text)\n",
    "\n",
    "\n",
    "ro9=driver.find_elements(By.XPATH,'//p[contains(@class,\"darkText\")]')\n",
    "for r9 in ro9:\n",
    "    print(r9.text)\n",
    "    route.append(r9.text)\n",
    "\n",
    "\n",
    "ti9=driver.find_elements(By.XPATH,'//p[contains(@class,\"blackText fontSize18 blackFont appendBottom2 makeFlex hrtlCenter\")]')\n",
    "for t9 in ti9:\n",
    "    print(t9.text)\n",
    "    time.append(t9.text)\n",
    "\n",
    "\n",
    "st9=driver.find_elements(By.XPATH,'//p[contains(@class,\"flightsLayoverInfo\")]')\n",
    "for s9 in st9:\n",
    "    print(s9.text)\n",
    "    stop.append(s9.text)\n",
    "\n",
    "\n",
    "fa9=driver.find_elements(By.XPATH,'//p[contains(@class,\"blackText fontSize18 blackFont white-space-no-wrap\")]')\n",
    "for f9 in fa9:\n",
    "    c=f9.text.replace('₹','')\n",
    "    fare.append(c.replace('',''))"
   ]
  },
  {
   "cell_type": "code",
   "execution_count": null,
   "id": "b5aabd48",
   "metadata": {},
   "outputs": [],
   "source": [
    "len(flight),len(flightno),len(route),len(time),len(stop),len(fare)"
   ]
  },
  {
   "cell_type": "code",
   "execution_count": null,
   "id": "7d88aacd",
   "metadata": {
    "scrolled": true
   },
   "outputs": [],
   "source": [
    "fl10=driver.find_elements(By.XPATH,'//p[contains(@class,\"boldFont blackText airlineName\")]')\n",
    "for f10 in fl10:\n",
    "    print(f10.text)\n",
    "    flight.append(f10.text)\n",
    "\n",
    "\n",
    "no10=driver.find_elements(By.XPATH,'//p[contains(@class,\"fliCode\")]')\n",
    "for n10 in no10:\n",
    "    print(n10.text)\n",
    "    flightno.append(n10.text)\n",
    "\n",
    "\n",
    "ro10=driver.find_elements(By.XPATH,'//p[contains(@class,\"darkText\")]')\n",
    "for r10 in ro10:\n",
    "    print(r10.text)\n",
    "    route.append(r10.text)\n",
    "\n",
    "\n",
    "ti10=driver.find_elements(By.XPATH,'//p[contains(@class,\"blackText fontSize18 blackFont appendBottom2 makeFlex hrtlCenter\")]')\n",
    "for t10 in ti10:\n",
    "    print(t10.text)\n",
    "    time.append(t10.text)\n",
    "\n",
    "\n",
    "st10=driver.find_elements(By.XPATH,'//p[contains(@class,\"flightsLayoverInfo\")]')\n",
    "for s10 in st10:\n",
    "    print(s10.text)\n",
    "    stop.append(s10.text)\n",
    "\n",
    "\n",
    "fa10=driver.find_elements(By.XPATH,'//p[contains(@class,\"blackText fontSize18 blackFont white-space-no-wrap\")]')\n",
    "for f10 in fa10:\n",
    "    c=f10.text.replace('₹','')\n",
    "    fare.append(c.replace('',''))"
   ]
  },
  {
   "cell_type": "code",
   "execution_count": null,
   "id": "2dffb495",
   "metadata": {},
   "outputs": [],
   "source": [
    "len(flight),len(flightno),len(route),len(time),len(stop),len(fare)"
   ]
  },
  {
   "cell_type": "code",
   "execution_count": null,
   "id": "16b8ee77",
   "metadata": {
    "scrolled": true
   },
   "outputs": [],
   "source": [
    "fl11=driver.find_elements(By.XPATH,'//p[contains(@class,\"boldFont blackText airlineName\")]')\n",
    "for f11 in fl11:\n",
    "    print(f11.text)\n",
    "    flight.append(f11.text)\n",
    "\n",
    "\n",
    "no11=driver.find_elements(By.XPATH,'//p[contains(@class,\"fliCode\")]')\n",
    "for n11 in no11:\n",
    "    print(n11.text)\n",
    "    flightno.append(n11.text)\n",
    "\n",
    "\n",
    "ro11=driver.find_elements(By.XPATH,'//p[contains(@class,\"darkText\")]')\n",
    "for r11 in ro11:\n",
    "    print(r11.text)\n",
    "    route.append(r11.text)\n",
    "\n",
    "\n",
    "ti11=driver.find_elements(By.XPATH,'//p[contains(@class,\"blackText fontSize18 blackFont appendBottom2 makeFlex hrtlCenter\")]')\n",
    "for t11 in ti11:\n",
    "    print(t11.text)\n",
    "    time.append(t11.text)\n",
    "\n",
    "\n",
    "st11=driver.find_elements(By.XPATH,'//p[contains(@class,\"flightsLayoverInfo\")]')\n",
    "for s11 in st11:\n",
    "    print(s11.text)\n",
    "    stop.append(s11.text)\n",
    "\n",
    "\n",
    "fa11=driver.find_elements(By.XPATH,'//p[contains(@class,\"blackText fontSize18 blackFont white-space-no-wrap\")]')\n",
    "for f11 in fa11:\n",
    "    c=f11.text.replace('₹','')\n",
    "    fare.append(c.replace('',''))\n"
   ]
  },
  {
   "cell_type": "code",
   "execution_count": null,
   "id": "747d1232",
   "metadata": {},
   "outputs": [],
   "source": [
    "len(flight),len(flightno),len(route),len(time),len(stop),len(fare)"
   ]
  },
  {
   "cell_type": "code",
   "execution_count": null,
   "id": "09dde0f1",
   "metadata": {},
   "outputs": [],
   "source": [
    "fl12=driver.find_elements(By.XPATH,'//p[contains(@class,\"boldFont blackText airlineName\")]')\n",
    "for f12 in fl12:\n",
    "    print(f12.text)\n",
    "    flight.append(f12.text)\n",
    "\n",
    "\n",
    "no12=driver.find_elements(By.XPATH,'//p[contains(@class,\"fliCode\")]')\n",
    "for n12 in no12:\n",
    "    print(n12.text)\n",
    "    flightno.append(n12.text)\n",
    "\n",
    "\n",
    "ro12=driver.find_elements(By.XPATH,'//p[contains(@class,\"darkText\")]')\n",
    "for r12 in ro12:\n",
    "    print(r12.text)\n",
    "    route.append(r12.text)\n",
    "\n",
    "\n",
    "ti12=driver.find_elements(By.XPATH,'//p[contains(@class,\"blackText fontSize18 blackFont appendBottom2 makeFlex hrtlCenter\")]')\n",
    "for t12 in ti12:\n",
    "    print(t12.text)\n",
    "    time.append(t12.text)\n",
    "\n",
    "\n",
    "st12=driver.find_elements(By.XPATH,'//p[contains(@class,\"flightsLayoverInfo\")]')\n",
    "for s12 in st12:\n",
    "    print(s12.text)\n",
    "    stop.append(s12.text)\n",
    "\n",
    "\n",
    "fa12=driver.find_elements(By.XPATH,'//p[contains(@class,\"blackText fontSize18 blackFont white-space-no-wrap\")]')\n",
    "for f12 in fa12:\n",
    "    c=f12.text.replace('₹','')\n",
    "    fare.append(c.replace('',''))"
   ]
  },
  {
   "cell_type": "code",
   "execution_count": null,
   "id": "10d9aeff",
   "metadata": {},
   "outputs": [],
   "source": [
    "len(flight),len(flightno),len(route),len(time),len(stop),len(fare)"
   ]
  },
  {
   "cell_type": "code",
   "execution_count": null,
   "id": "4dc56dac",
   "metadata": {
    "scrolled": true
   },
   "outputs": [],
   "source": [
    "fl13=driver.find_elements(By.XPATH,'//p[contains(@class,\"boldFont blackText airlineName\")]')\n",
    "for f13 in fl13:\n",
    "    print(f13.text)\n",
    "    flight.append(f13.text)\n",
    "\n",
    "\n",
    "no13=driver.find_elements(By.XPATH,'//p[contains(@class,\"fliCode\")]')\n",
    "for n13 in no13:\n",
    "    print(n13.text)\n",
    "    flightno.append(n13.text)\n",
    "\n",
    "\n",
    "ro13=driver.find_elements(By.XPATH,'//p[contains(@class,\"darkText\")]')\n",
    "for r13 in ro13:\n",
    "    print(r13.text)\n",
    "    route.append(r13.text)\n",
    "\n",
    "\n",
    "ti13=driver.find_elements(By.XPATH,'//p[contains(@class,\"blackText fontSize18 blackFont appendBottom2 makeFlex hrtlCenter\")]')\n",
    "for t13 in ti13:\n",
    "    print(t13.text)\n",
    "    time.append(t13.text)\n",
    "\n",
    "\n",
    "st13=driver.find_elements(By.XPATH,'//p[contains(@class,\"flightsLayoverInfo\")]')\n",
    "for s13 in st13:\n",
    "    print(s13.text)\n",
    "    stop.append(s13.text)\n",
    "\n",
    "\n",
    "fa13=driver.find_elements(By.XPATH,'//p[contains(@class,\"blackText fontSize18 blackFont white-space-no-wrap\")]')\n",
    "for f13 in fa13:\n",
    "    c=f13.text.replace('₹','')\n",
    "    fare.append(c.replace('',''))"
   ]
  },
  {
   "cell_type": "code",
   "execution_count": null,
   "id": "db45ecc2",
   "metadata": {},
   "outputs": [],
   "source": [
    "len(flight),len(flightno),len(route),len(time),len(stop),len(fare)"
   ]
  },
  {
   "cell_type": "code",
   "execution_count": null,
   "id": "6575db7c",
   "metadata": {
    "scrolled": true
   },
   "outputs": [],
   "source": [
    "fl14=driver.find_elements(By.XPATH,'//p[contains(@class,\"boldFont blackText airlineName\")]')\n",
    "for f14 in fl14:\n",
    "    print(f14.text)\n",
    "    flight.append(f14.text)\n",
    "\n",
    "\n",
    "no14=driver.find_elements(By.XPATH,'//p[contains(@class,\"fliCode\")]')\n",
    "for n14 in no14:\n",
    "    print(n14.text)\n",
    "    flightno.append(n14.text)\n",
    "\n",
    "\n",
    "ro14=driver.find_elements(By.XPATH,'//p[contains(@class,\"darkText\")]')\n",
    "for r14 in ro14:\n",
    "    print(r14.text)\n",
    "    route.append(r14.text)\n",
    "\n",
    "\n",
    "ti14=driver.find_elements(By.XPATH,'//p[contains(@class,\"blackText fontSize18 blackFont appendBottom2 makeFlex hrtlCenter\")]')\n",
    "for t14 in ti14:\n",
    "    print(t14.text)\n",
    "    time.append(t14.text)\n",
    "\n",
    "\n",
    "st14=driver.find_elements(By.XPATH,'//p[contains(@class,\"flightsLayoverInfo\")]')\n",
    "for s14 in st14:\n",
    "    print(s14.text)\n",
    "    stop.append(s14.text)\n",
    "\n",
    "\n",
    "fa14=driver.find_elements(By.XPATH,'//p[contains(@class,\"blackText fontSize18 blackFont white-space-no-wrap\")]')\n",
    "for f14 in fa14:\n",
    "    c=f14.text.replace('₹','')\n",
    "    fare.append(c.replace('',''))\n"
   ]
  },
  {
   "cell_type": "code",
   "execution_count": null,
   "id": "c57acd8a",
   "metadata": {},
   "outputs": [],
   "source": [
    "len(flight),len(flightno),len(route),len(time),len(stop),len(fare)"
   ]
  },
  {
   "cell_type": "code",
   "execution_count": null,
   "id": "fcd72676",
   "metadata": {
    "scrolled": true
   },
   "outputs": [],
   "source": [
    "fl15=driver.find_elements(By.XPATH,'//p[contains(@class,\"boldFont blackText airlineName\")]')\n",
    "for f15 in fl15:\n",
    "    print(f15.text)\n",
    "    flight.append(f15.text)\n",
    "\n",
    "\n",
    "no15=driver.find_elements(By.XPATH,'//p[contains(@class,\"fliCode\")]')\n",
    "for n15 in no15:\n",
    "    print(n15.text)\n",
    "    flightno.append(n15.text)\n",
    "\n",
    "\n",
    "ro15=driver.find_elements(By.XPATH,'//p[contains(@class,\"darkText\")]')\n",
    "for r15 in ro15:\n",
    "    print(r15.text)\n",
    "    route.append(r15.text)\n",
    "\n",
    "\n",
    "ti15=driver.find_elements(By.XPATH,'//p[contains(@class,\"blackText fontSize18 blackFont appendBottom2 makeFlex hrtlCenter\")]')\n",
    "for t15 in ti15:\n",
    "    print(t15.text)\n",
    "    time.append(t15.text)\n",
    "\n",
    "\n",
    "st15=driver.find_elements(By.XPATH,'//p[contains(@class,\"flightsLayoverInfo\")]')\n",
    "for s15 in st15:\n",
    "    print(s15.text)\n",
    "    stop.append(s15.text)\n",
    "\n",
    "\n",
    "fa15=driver.find_elements(By.XPATH,'//p[contains(@class,\"blackText fontSize18 blackFont white-space-no-wrap\")]')\n",
    "for f15 in fa15:\n",
    "    c=f15.text.replace('₹','')\n",
    "    fare.append(c.replace('',''))\n"
   ]
  },
  {
   "cell_type": "code",
   "execution_count": null,
   "id": "f2044675",
   "metadata": {},
   "outputs": [],
   "source": [
    "len(flight),len(flightno),len(route),len(time),len(stop),len(fare)"
   ]
  },
  {
   "cell_type": "code",
   "execution_count": null,
   "id": "d5bde86b",
   "metadata": {},
   "outputs": [],
   "source": [
    "fl16=driver.find_elements(By.XPATH,'//p[contains(@class,\"boldFont blackText airlineName\")]')\n",
    "for f16 in fl16:\n",
    "    print(f16.text)\n",
    "    flight.append(f16.text)\n",
    "\n",
    "\n",
    "no16=driver.find_elements(By.XPATH,'//p[contains(@class,\"fliCode\")]')\n",
    "for n16 in no16:\n",
    "    print(n16.text)\n",
    "    flightno.append(n16.text)\n",
    "\n",
    "\n",
    "ro16=driver.find_elements(By.XPATH,'//p[contains(@class,\"darkText\")]')\n",
    "for r16 in ro16:\n",
    "    print(r16.text)\n",
    "    route.append(r16.text)\n",
    "\n",
    "\n",
    "ti16=driver.find_elements(By.XPATH,'//p[contains(@class,\"blackText fontSize18 blackFont appendBottom2 makeFlex hrtlCenter\")]')\n",
    "for t16 in ti16:\n",
    "    print(t16.text)\n",
    "    time.append(t16.text)\n",
    "\n",
    "\n",
    "st16=driver.find_elements(By.XPATH,'//p[contains(@class,\"flightsLayoverInfo\")]')\n",
    "for s16 in st16:\n",
    "    print(s16.text)\n",
    "    stop.append(s16.text)\n",
    "\n",
    "\n",
    "fa16=driver.find_elements(By.XPATH,'//p[contains(@class,\"blackText fontSize18 blackFont white-space-no-wrap\")]')\n",
    "for f16 in fa16:\n",
    "    c=f16.text.replace('₹','')\n",
    "    fare.append(c.replace('',''))\n"
   ]
  },
  {
   "cell_type": "code",
   "execution_count": null,
   "id": "a86d2755",
   "metadata": {},
   "outputs": [],
   "source": [
    "len(flight),len(flightno),len(route),len(time),len(stop),len(fare)"
   ]
  },
  {
   "cell_type": "code",
   "execution_count": null,
   "id": "2cd73ed5",
   "metadata": {
    "scrolled": true
   },
   "outputs": [],
   "source": [
    "fl17=driver.find_elements(By.XPATH,'//p[contains(@class,\"boldFont blackText airlineName\")]')\n",
    "for f17 in fl17:\n",
    "    print(f17.text)\n",
    "    flight.append(f17.text)\n",
    "\n",
    "\n",
    "no17=driver.find_elements(By.XPATH,'//p[contains(@class,\"fliCode\")]')\n",
    "for n17 in no17:\n",
    "    print(n17.text)\n",
    "    flightno.append(n17.text)\n",
    "\n",
    "\n",
    "ro17=driver.find_elements(By.XPATH,'//p[contains(@class,\"darkText\")]')\n",
    "for r17 in ro17:\n",
    "    print(r17.text)\n",
    "    route.append(r17.text)\n",
    "\n",
    "\n",
    "ti17=driver.find_elements(By.XPATH,'//p[contains(@class,\"blackText fontSize18 blackFont appendBottom2 makeFlex hrtlCenter\")]')\n",
    "for t17 in ti17:\n",
    "    print(t17.text)\n",
    "    time.append(t17.text)\n",
    "\n",
    "\n",
    "st17=driver.find_elements(By.XPATH,'//p[contains(@class,\"flightsLayoverInfo\")]')\n",
    "for s17 in st17:\n",
    "    print(s17.text)\n",
    "    stop.append(s17.text)\n",
    "\n",
    "\n",
    "fa17=driver.find_elements(By.XPATH,'//p[contains(@class,\"blackText fontSize18 blackFont white-space-no-wrap\")]')\n",
    "for f17 in fa17:\n",
    "    c=f17.text.replace('₹','')\n",
    "    fare.append(c.replace('',''))\n"
   ]
  },
  {
   "cell_type": "code",
   "execution_count": null,
   "id": "57da6124",
   "metadata": {},
   "outputs": [],
   "source": [
    "len(flight),len(flightno),len(route),len(time),len(stop),len(fare)"
   ]
  },
  {
   "cell_type": "code",
   "execution_count": null,
   "id": "9704bb46",
   "metadata": {
    "scrolled": true
   },
   "outputs": [],
   "source": [
    "fl18=driver.find_elements(By.XPATH,'//p[contains(@class,\"boldFont blackText airlineName\")]')\n",
    "for f18 in fl18:\n",
    "    print(f18.text)\n",
    "    flight.append(f18.text)\n",
    "\n",
    "\n",
    "no18=driver.find_elements(By.XPATH,'//p[contains(@class,\"fliCode\")]')\n",
    "for n18 in no18:\n",
    "    print(n18.text)\n",
    "    flightno.append(n18.text)\n",
    "\n",
    "\n",
    "ro18=driver.find_elements(By.XPATH,'//p[contains(@class,\"darkText\")]')\n",
    "for r18 in ro18:\n",
    "    print(r18.text)\n",
    "    route.append(r18.text)\n",
    "\n",
    "\n",
    "ti18=driver.find_elements(By.XPATH,'//p[contains(@class,\"blackText fontSize18 blackFont appendBottom2 makeFlex hrtlCenter\")]')\n",
    "for t18 in ti18:\n",
    "    print(t18.text)\n",
    "    time.append(t18.text)\n",
    "\n",
    "\n",
    "st18=driver.find_elements(By.XPATH,'//p[contains(@class,\"flightsLayoverInfo\")]')\n",
    "for s18 in st18:\n",
    "    print(s18.text)\n",
    "    stop.append(s18.text)\n",
    "\n",
    "\n",
    "fa18=driver.find_elements(By.XPATH,'//p[contains(@class,\"blackText fontSize18 blackFont white-space-no-wrap\")]')\n",
    "for f18 in fa18:\n",
    "    c=f18.text.replace('₹','')\n",
    "    fare.append(c.replace('',''))"
   ]
  },
  {
   "cell_type": "code",
   "execution_count": null,
   "id": "a7cec2c5",
   "metadata": {
    "scrolled": true
   },
   "outputs": [],
   "source": [
    "len(flight),len(flightno),len(route),len(time),len(stop),len(fare)"
   ]
  },
  {
   "cell_type": "code",
   "execution_count": null,
   "id": "aee28c14",
   "metadata": {
    "scrolled": true
   },
   "outputs": [],
   "source": [
    "fl19=driver.find_elements(By.XPATH,'//p[contains(@class,\"boldFont blackText airlineName\")]')\n",
    "for f19 in fl19:\n",
    "    print(f19.text)\n",
    "    flight.append(f19.text)\n",
    "\n",
    "\n",
    "no19=driver.find_elements(By.XPATH,'//p[contains(@class,\"fliCode\")]')\n",
    "for n19 in no19:\n",
    "    print(n19.text)\n",
    "    flightno.append(n19.text)\n",
    "\n",
    "\n",
    "ro19=driver.find_elements(By.XPATH,'//p[contains(@class,\"darkText\")]')\n",
    "for r19 in ro19:\n",
    "    print(r19.text)\n",
    "    route.append(r19.text)\n",
    "\n",
    "\n",
    "ti19=driver.find_elements(By.XPATH,'//p[contains(@class,\"blackText fontSize18 blackFont appendBottom2 makeFlex hrtlCenter\")]')\n",
    "for t19 in ti19:\n",
    "    print(t19.text)\n",
    "    time.append(t19.text)\n",
    "\n",
    "\n",
    "st19=driver.find_elements(By.XPATH,'//p[contains(@class,\"flightsLayoverInfo\")]')\n",
    "for s19 in st19:\n",
    "    print(s19.text)\n",
    "    stop.append(s19.text)\n",
    "\n",
    "\n",
    "fa19=driver.find_elements(By.XPATH,'//p[contains(@class,\"blackText fontSize18 blackFont white-space-no-wrap\")]')\n",
    "for f19 in fa19:\n",
    "    c=f19.text.replace('₹','')\n",
    "    fare.append(c.replace('',''))"
   ]
  },
  {
   "cell_type": "code",
   "execution_count": null,
   "id": "2409a72d",
   "metadata": {},
   "outputs": [],
   "source": [
    "len(flight),len(flightno),len(route),len(time),len(stop),len(fare)"
   ]
  },
  {
   "cell_type": "code",
   "execution_count": null,
   "id": "546902c0",
   "metadata": {
    "scrolled": true
   },
   "outputs": [],
   "source": [
    "fl20=driver.find_elements(By.XPATH,'//p[contains(@class,\"boldFont blackText airlineName\")]')\n",
    "for f20 in fl20:\n",
    "    print(f20.text)\n",
    "    flight.append(f20.text)\n",
    "\n",
    "\n",
    "no20=driver.find_elements(By.XPATH,'//p[contains(@class,\"fliCode\")]')\n",
    "for n20 in no20:\n",
    "    print(n20.text)\n",
    "    flightno.append(n20.text)\n",
    "\n",
    "\n",
    "ro20=driver.find_elements(By.XPATH,'//p[contains(@class,\"darkText\")]')\n",
    "for r20 in ro20:\n",
    "    print(r20.text)\n",
    "    route.append(r20.text)\n",
    "\n",
    "\n",
    "ti20=driver.find_elements(By.XPATH,'//p[contains(@class,\"blackText fontSize18 blackFont appendBottom2 makeFlex hrtlCenter\")]')\n",
    "for t20 in ti20:\n",
    "    print(t20.text)\n",
    "    time.append(t20.text)\n",
    "\n",
    "\n",
    "st20=driver.find_elements(By.XPATH,'//p[contains(@class,\"flightsLayoverInfo\")]')\n",
    "for s20 in st20:\n",
    "    print(s20.text)\n",
    "    stop.append(s20.text)\n",
    "\n",
    "\n",
    "fa20=driver.find_elements(By.XPATH,'//p[contains(@class,\"blackText fontSize18 blackFont white-space-no-wrap\")]')\n",
    "for f20 in fa20:\n",
    "    c=f20.text.replace('₹','')\n",
    "    fare.append(c.replace('',''))"
   ]
  },
  {
   "cell_type": "code",
   "execution_count": null,
   "id": "16742115",
   "metadata": {},
   "outputs": [],
   "source": [
    "len(flight),len(flightno),len(route),len(time),len(stop),len(fare)"
   ]
  },
  {
   "cell_type": "code",
   "execution_count": null,
   "id": "2c390d3b",
   "metadata": {
    "scrolled": true
   },
   "outputs": [],
   "source": [
    "fl21=driver.find_elements(By.XPATH,'//p[contains(@class,\"boldFont blackText airlineName\")]')\n",
    "for f21 in fl21:\n",
    "    print(f21.text)\n",
    "    flight.append(f21.text)\n",
    "\n",
    "\n",
    "no21=driver.find_elements(By.XPATH,'//p[contains(@class,\"fliCode\")]')\n",
    "for n21 in no21:\n",
    "    print(n21.text)\n",
    "    flightno.append(n21.text)\n",
    "\n",
    "\n",
    "ro21=driver.find_elements(By.XPATH,'//p[contains(@class,\"darkText\")]')\n",
    "for r21 in ro21:\n",
    "    print(r21.text)\n",
    "    route.append(r21.text)\n",
    "\n",
    "\n",
    "ti21=driver.find_elements(By.XPATH,'//p[contains(@class,\"blackText fontSize18 blackFont appendBottom2 makeFlex hrtlCenter\")]')\n",
    "for t21 in ti21:\n",
    "    print(t21.text)\n",
    "    time.append(t21.text)\n",
    "\n",
    "\n",
    "st21=driver.find_elements(By.XPATH,'//p[contains(@class,\"flightsLayoverInfo\")]')\n",
    "for s21 in st21:\n",
    "    print(s21.text)\n",
    "    stop.append(s21.text)\n",
    "\n",
    "\n",
    "fa21=driver.find_elements(By.XPATH,'//p[contains(@class,\"blackText fontSize18 blackFont white-space-no-wrap\")]')\n",
    "for f21 in fa21:\n",
    "    c=f21.text.replace('₹','')\n",
    "    fare.append(c.replace('',''))"
   ]
  },
  {
   "cell_type": "code",
   "execution_count": null,
   "id": "35bfe768",
   "metadata": {},
   "outputs": [],
   "source": [
    "len(flight),len(flightno),len(route),len(time),len(stop),len(fare)"
   ]
  },
  {
   "cell_type": "code",
   "execution_count": null,
   "id": "25f77705",
   "metadata": {
    "scrolled": true
   },
   "outputs": [],
   "source": [
    "fl22=driver.find_elements(By.XPATH,'//p[contains(@class,\"boldFont blackText airlineName\")]')\n",
    "for f22 in fl22:\n",
    "    print(f22.text)\n",
    "    flight.append(f22.text)\n",
    "\n",
    "\n",
    "no22=driver.find_elements(By.XPATH,'//p[contains(@class,\"fliCode\")]')\n",
    "for n22 in no22:\n",
    "    print(n22.text)\n",
    "    flightno.append(n22.text)\n",
    "\n",
    "\n",
    "ro22=driver.find_elements(By.XPATH,'//p[contains(@class,\"darkText\")]')\n",
    "for r22 in ro22:\n",
    "    print(r22.text)\n",
    "    route.append(r22.text)\n",
    "\n",
    "\n",
    "ti22=driver.find_elements(By.XPATH,'//p[contains(@class,\"blackText fontSize18 blackFont appendBottom2 makeFlex hrtlCenter\")]')\n",
    "for t22 in ti22:\n",
    "    print(t22.text)\n",
    "    time.append(t22.text)\n",
    "\n",
    "\n",
    "st22=driver.find_elements(By.XPATH,'//p[contains(@class,\"flightsLayoverInfo\")]')\n",
    "for s22 in st22:\n",
    "    print(s22.text)\n",
    "    stop.append(s22.text)\n",
    "\n",
    "\n",
    "fa22=driver.find_elements(By.XPATH,'//p[contains(@class,\"blackText fontSize18 blackFont white-space-no-wrap\")]')\n",
    "for f22 in fa22:\n",
    "    c=f22.text.replace('₹','')\n",
    "    fare.append(c.replace('',''))"
   ]
  },
  {
   "cell_type": "code",
   "execution_count": null,
   "id": "167c149d",
   "metadata": {},
   "outputs": [],
   "source": [
    "len(flight),len(flightno),len(route),len(time),len(stop),len(fare)"
   ]
  },
  {
   "cell_type": "code",
   "execution_count": null,
   "id": "a7158af4",
   "metadata": {},
   "outputs": [],
   "source": [
    "fl23=driver.find_elements(By.XPATH,'//p[contains(@class,\"boldFont blackText airlineName\")]')\n",
    "for f23 in fl23:\n",
    "    print(f23.text)\n",
    "    flight.append(f23.text)\n",
    "\n",
    "\n",
    "no23=driver.find_elements(By.XPATH,'//p[contains(@class,\"fliCode\")]')\n",
    "for n23 in no23:\n",
    "    print(n23.text)\n",
    "    flightno.append(n23.text)\n",
    "\n",
    "\n",
    "ro23=driver.find_elements(By.XPATH,'//p[contains(@class,\"darkText\")]')\n",
    "for r23 in ro23:\n",
    "    print(r23.text)\n",
    "    route.append(r23.text)\n",
    "\n",
    "\n",
    "ti23=driver.find_elements(By.XPATH,'//p[contains(@class,\"blackText fontSize18 blackFont appendBottom2 makeFlex hrtlCenter\")]')\n",
    "for t23 in ti23:\n",
    "    print(t23.text)\n",
    "    time.append(t23.text)\n",
    "\n",
    "\n",
    "st23=driver.find_elements(By.XPATH,'//p[contains(@class,\"flightsLayoverInfo\")]')\n",
    "for s23 in st23:\n",
    "    print(s23.text)\n",
    "    stop.append(s23.text)\n",
    "\n",
    "\n",
    "fa23=driver.find_elements(By.XPATH,'//p[contains(@class,\"blackText fontSize18 blackFont white-space-no-wrap\")]')\n",
    "for f23 in fa23:\n",
    "    c=f23.text.replace('₹','')\n",
    "    fare.append(c.replace('',''))"
   ]
  },
  {
   "cell_type": "code",
   "execution_count": null,
   "id": "5a628c83",
   "metadata": {},
   "outputs": [],
   "source": [
    "len(flight),len(flightno),len(route),len(time),len(stop),len(fare)"
   ]
  },
  {
   "cell_type": "code",
   "execution_count": null,
   "id": "35429972",
   "metadata": {
    "scrolled": true
   },
   "outputs": [],
   "source": [
    "fl24=driver.find_elements(By.XPATH,'//p[contains(@class,\"boldFont blackText airlineName\")]')\n",
    "for f24 in fl24:\n",
    "    print(f24.text)\n",
    "    flight.append(f24.text)\n",
    "\n",
    "\n",
    "no24=driver.find_elements(By.XPATH,'//p[contains(@class,\"fliCode\")]')\n",
    "for n24 in no24:\n",
    "    print(n24.text)\n",
    "    flightno.append(n24.text)\n",
    "\n",
    "\n",
    "ro24=driver.find_elements(By.XPATH,'//p[contains(@class,\"darkText\")]')\n",
    "for r24 in ro24:\n",
    "    print(r24.text)\n",
    "    route.append(r24.text)\n",
    "\n",
    "\n",
    "ti24=driver.find_elements(By.XPATH,'//p[contains(@class,\"blackText fontSize18 blackFont appendBottom2 makeFlex hrtlCenter\")]')\n",
    "for t24 in ti24:\n",
    "    print(t24.text)\n",
    "    time.append(t24.text)\n",
    "\n",
    "\n",
    "st24=driver.find_elements(By.XPATH,'//p[contains(@class,\"flightsLayoverInfo\")]')\n",
    "for s24 in st24:\n",
    "    print(s24.text)\n",
    "    stop.append(s24.text)\n",
    "\n",
    "\n",
    "fa24=driver.find_elements(By.XPATH,'//p[contains(@class,\"blackText fontSize18 blackFont white-space-no-wrap\")]')\n",
    "for f24 in fa24:\n",
    "    c=f24.text.replace('₹','')\n",
    "    fare.append(c.replace('',''))"
   ]
  },
  {
   "cell_type": "code",
   "execution_count": null,
   "id": "9f067698",
   "metadata": {},
   "outputs": [],
   "source": [
    "len(flight),len(flightno),len(route),len(time),len(stop),len(fare)"
   ]
  },
  {
   "cell_type": "code",
   "execution_count": null,
   "id": "610ae65f",
   "metadata": {
    "scrolled": true
   },
   "outputs": [],
   "source": [
    "fl25=driver.find_elements(By.XPATH,'//p[contains(@class,\"boldFont blackText airlineName\")]')\n",
    "for f25 in fl25:\n",
    "    print(f25.text)\n",
    "    flight.append(f25.text)\n",
    "\n",
    "\n",
    "no25=driver.find_elements(By.XPATH,'//p[contains(@class,\"fliCode\")]')\n",
    "for n25 in no25:\n",
    "    print(n25.text)\n",
    "    flightno.append(n25.text)\n",
    "\n",
    "\n",
    "ro25=driver.find_elements(By.XPATH,'//p[contains(@class,\"darkText\")]')\n",
    "for r25 in ro25:\n",
    "    print(r25.text)\n",
    "    route.append(r25.text)\n",
    "\n",
    "\n",
    "ti25=driver.find_elements(By.XPATH,'//p[contains(@class,\"blackText fontSize18 blackFont appendBottom2 makeFlex hrtlCenter\")]')\n",
    "for t25 in ti25:\n",
    "    print(t25.text)\n",
    "    time.append(t25.text)\n",
    "\n",
    "\n",
    "st25=driver.find_elements(By.XPATH,'//p[contains(@class,\"flightsLayoverInfo\")]')\n",
    "for s25 in st25:\n",
    "    print(s25.text)\n",
    "    stop.append(s25.text)\n",
    "\n",
    "\n",
    "fa25=driver.find_elements(By.XPATH,'//p[contains(@class,\"blackText fontSize18 blackFont white-space-no-wrap\")]')\n",
    "for f25 in fa25:\n",
    "    c=f25.text.replace('₹','')\n",
    "    fare.append(c.replace('',''))\n"
   ]
  },
  {
   "cell_type": "code",
   "execution_count": null,
   "id": "a9f8e7cd",
   "metadata": {},
   "outputs": [],
   "source": [
    "len(flight),len(flightno),len(route),len(time),len(stop),len(fare)"
   ]
  },
  {
   "cell_type": "code",
   "execution_count": null,
   "id": "ae6bef5f",
   "metadata": {},
   "outputs": [],
   "source": [
    "fl26=driver.find_elements(By.XPATH,'//p[contains(@class,\"boldFont blackText airlineName\")]')\n",
    "for f26 in fl26:\n",
    "    print(f26.text)\n",
    "    flight.append(f26.text)\n",
    "\n",
    "\n",
    "no26=driver.find_elements(By.XPATH,'//p[contains(@class,\"fliCode\")]')\n",
    "for n26 in no26:\n",
    "    print(n26.text)\n",
    "    flightno.append(n26.text)\n",
    "\n",
    "\n",
    "ro26=driver.find_elements(By.XPATH,'//p[contains(@class,\"darkText\")]')\n",
    "for r26 in ro26:\n",
    "    print(r26.text)\n",
    "    route.append(r26.text)\n",
    "\n",
    "\n",
    "ti26=driver.find_elements(By.XPATH,'//p[contains(@class,\"blackText fontSize18 blackFont appendBottom2 makeFlex hrtlCenter\")]')\n",
    "for t26 in ti26:\n",
    "    print(t26.text)\n",
    "    time.append(t26.text)\n",
    "\n",
    "\n",
    "st26=driver.find_elements(By.XPATH,'//p[contains(@class,\"flightsLayoverInfo\")]')\n",
    "for s26 in st26:\n",
    "    print(s26.text)\n",
    "    stop.append(s26.text)\n",
    "\n",
    "\n",
    "fa26=driver.find_elements(By.XPATH,'//p[contains(@class,\"blackText fontSize18 blackFont white-space-no-wrap\")]')\n",
    "for f26 in fa26:\n",
    "    c=f26.text.replace('₹','')\n",
    "    fare.append(c.replace('',''))"
   ]
  },
  {
   "cell_type": "code",
   "execution_count": null,
   "id": "fc68c135",
   "metadata": {},
   "outputs": [],
   "source": [
    "len(flight),len(flightno),len(route),len(time),len(stop),len(fare)"
   ]
  },
  {
   "cell_type": "code",
   "execution_count": null,
   "id": "7e24854a",
   "metadata": {
    "scrolled": true
   },
   "outputs": [],
   "source": [
    "fl27=driver.find_elements(By.XPATH,'//p[contains(@class,\"boldFont blackText airlineName\")]')\n",
    "for f27 in fl27:\n",
    "    print(f27.text)\n",
    "    flight.append(f27.text)\n",
    "\n",
    "\n",
    "no27=driver.find_elements(By.XPATH,'//p[contains(@class,\"fliCode\")]')\n",
    "for n27 in no27:\n",
    "    print(n27.text)\n",
    "    flightno.append(n27.text)\n",
    "\n",
    "\n",
    "ro27=driver.find_elements(By.XPATH,'//p[contains(@class,\"darkText\")]')\n",
    "for r27 in ro27:\n",
    "    print(r27.text)\n",
    "    route.append(r27.text)\n",
    "\n",
    "\n",
    "ti27=driver.find_elements(By.XPATH,'//p[contains(@class,\"blackText fontSize18 blackFont appendBottom2 makeFlex hrtlCenter\")]')\n",
    "for t27 in ti27:\n",
    "    print(t27.text)\n",
    "    time.append(t27.text)\n",
    "\n",
    "\n",
    "st27=driver.find_elements(By.XPATH,'//p[contains(@class,\"flightsLayoverInfo\")]')\n",
    "for s27 in st27:\n",
    "    print(s27.text)\n",
    "    stop.append(s27.text)\n",
    "\n",
    "\n",
    "fa27=driver.find_elements(By.XPATH,'//p[contains(@class,\"blackText fontSize18 blackFont white-space-no-wrap\")]')\n",
    "for f27 in fa27:\n",
    "    c=f27.text.replace('₹','')\n",
    "    fare.append(c.replace('',''))\n"
   ]
  },
  {
   "cell_type": "code",
   "execution_count": null,
   "id": "c2d0d9e7",
   "metadata": {
    "scrolled": true
   },
   "outputs": [],
   "source": [
    "len(flight),len(flightno),len(route),len(time),len(stop),len(fare)"
   ]
  },
  {
   "cell_type": "code",
   "execution_count": null,
   "id": "7570ba52",
   "metadata": {
    "scrolled": true
   },
   "outputs": [],
   "source": [
    "fl28=driver.find_elements(By.XPATH,'//p[contains(@class,\"boldFont blackText airlineName\")]')\n",
    "for f28 in fl28:\n",
    "    print(f28.text)\n",
    "    flight.append(f28.text)\n",
    "\n",
    "\n",
    "no28=driver.find_elements(By.XPATH,'//p[contains(@class,\"fliCode\")]')\n",
    "for n28 in no28:\n",
    "    print(n28.text)\n",
    "    flightno.append(n28.text)\n",
    "\n",
    "\n",
    "ro28=driver.find_elements(By.XPATH,'//p[contains(@class,\"darkText\")]')\n",
    "for r28 in ro28:\n",
    "    print(r28.text)\n",
    "    route.append(r28.text)\n",
    "\n",
    "\n",
    "ti28=driver.find_elements(By.XPATH,'//p[contains(@class,\"blackText fontSize18 blackFont appendBottom2 makeFlex hrtlCenter\")]')\n",
    "for t28 in ti28:\n",
    "    print(t28.text)\n",
    "    time.append(t28.text)\n",
    "\n",
    "\n",
    "st28=driver.find_elements(By.XPATH,'//p[contains(@class,\"flightsLayoverInfo\")]')\n",
    "for s28 in st28:\n",
    "    print(s28.text)\n",
    "    stop.append(s28.text)\n",
    "\n",
    "\n",
    "fa28=driver.find_elements(By.XPATH,'//p[contains(@class,\"blackText fontSize18 blackFont white-space-no-wrap\")]')\n",
    "for f28 in fa28:\n",
    "    c=f28.text.replace('₹','')\n",
    "    fare.append(c.replace('',''))"
   ]
  },
  {
   "cell_type": "code",
   "execution_count": null,
   "id": "b94e316f",
   "metadata": {},
   "outputs": [],
   "source": [
    "len(flight),len(flightno),len(route),len(time),len(stop),len(fare)"
   ]
  },
  {
   "cell_type": "code",
   "execution_count": null,
   "id": "bbf13cee",
   "metadata": {
    "scrolled": true
   },
   "outputs": [],
   "source": [
    "fl29=driver.find_elements(By.XPATH,'//p[contains(@class,\"boldFont blackText airlineName\")]')\n",
    "for f29 in fl29:\n",
    "    print(f29.text)\n",
    "    flight.append(f29.text)\n",
    "\n",
    "\n",
    "no29=driver.find_elements(By.XPATH,'//p[contains(@class,\"fliCode\")]')\n",
    "for n29 in no29:\n",
    "    print(n29.text)\n",
    "    flightno.append(n29.text)\n",
    "\n",
    "\n",
    "ro29=driver.find_elements(By.XPATH,'//p[contains(@class,\"darkText\")]')\n",
    "for r29 in ro29:\n",
    "    print(r29.text)\n",
    "    route.append(r29.text)\n",
    "\n",
    "\n",
    "ti29=driver.find_elements(By.XPATH,'//p[contains(@class,\"blackText fontSize18 blackFont appendBottom2 makeFlex hrtlCenter\")]')\n",
    "for t29 in ti29:\n",
    "    print(t29.text)\n",
    "    time.append(t29.text)\n",
    "\n",
    "\n",
    "st29=driver.find_elements(By.XPATH,'//p[contains(@class,\"flightsLayoverInfo\")]')\n",
    "for s29 in st29:\n",
    "    print(s29.text)\n",
    "    stop.append(s29.text)\n",
    "\n",
    "\n",
    "fa29=driver.find_elements(By.XPATH,'//p[contains(@class,\"blackText fontSize18 blackFont white-space-no-wrap\")]')\n",
    "for f29 in fa29:\n",
    "    c=f29.text.replace('₹','')\n",
    "    fare.append(c.replace('',''))"
   ]
  },
  {
   "cell_type": "code",
   "execution_count": null,
   "id": "cc899bbb",
   "metadata": {},
   "outputs": [],
   "source": [
    "len(flight),len(flightno),len(route),len(time),len(stop),len(fare)"
   ]
  },
  {
   "cell_type": "code",
   "execution_count": null,
   "id": "f674932f",
   "metadata": {
    "scrolled": true
   },
   "outputs": [],
   "source": [
    "fl30=driver.find_elements(By.XPATH,'//p[contains(@class,\"boldFont blackText airlineName\")]')\n",
    "for f30 in fl30:\n",
    "    print(f30.text)\n",
    "    flight.append(f30.text)\n",
    "\n",
    "\n",
    "no30=driver.find_elements(By.XPATH,'//p[contains(@class,\"fliCode\")]')\n",
    "for n30 in no30:\n",
    "    print(n30.text)\n",
    "    flightno.append(n30.text)\n",
    "\n",
    "\n",
    "ro30=driver.find_elements(By.XPATH,'//p[contains(@class,\"darkText\")]')\n",
    "for r30 in ro30:\n",
    "    print(r30.text)\n",
    "    route.append(r30.text)\n",
    "\n",
    "\n",
    "ti30=driver.find_elements(By.XPATH,'//p[contains(@class,\"blackText fontSize18 blackFont appendBottom2 makeFlex hrtlCenter\")]')\n",
    "for t30 in ti30:\n",
    "    print(t30.text)\n",
    "    time.append(t30.text)\n",
    "\n",
    "\n",
    "st30=driver.find_elements(By.XPATH,'//p[contains(@class,\"flightsLayoverInfo\")]')\n",
    "for s30 in st30:\n",
    "    print(s30.text)\n",
    "    stop.append(s30.text)\n",
    "\n",
    "\n",
    "fa30=driver.find_elements(By.XPATH,'//p[contains(@class,\"blackText fontSize18 blackFont white-space-no-wrap\")]')\n",
    "for f30 in fa30:\n",
    "    c=f30.text.replace('₹','')\n",
    "    fare.append(c.replace('',''))\n"
   ]
  },
  {
   "cell_type": "code",
   "execution_count": null,
   "id": "53b6e26a",
   "metadata": {},
   "outputs": [],
   "source": [
    "len(flight),len(flightno),len(route),len(time),len(stop),len(fare)"
   ]
  },
  {
   "cell_type": "code",
   "execution_count": null,
   "id": "e30e9829",
   "metadata": {
    "scrolled": true
   },
   "outputs": [],
   "source": [
    "fl31=driver.find_elements(By.XPATH,'//p[contains(@class,\"boldFont blackText airlineName\")]')\n",
    "for f31 in fl31:\n",
    "    print(f31.text)\n",
    "    flight.append(f31.text)\n",
    "\n",
    "\n",
    "no31=driver.find_elements(By.XPATH,'//p[contains(@class,\"fliCode\")]')\n",
    "for n31 in no31:\n",
    "    print(n31.text)\n",
    "    flightno.append(n31.text)\n",
    "\n",
    "\n",
    "ro31=driver.find_elements(By.XPATH,'//p[contains(@class,\"darkText\")]')\n",
    "for r31 in ro31:\n",
    "    print(r31.text)\n",
    "    route.append(r31.text)\n",
    "\n",
    "\n",
    "ti31=driver.find_elements(By.XPATH,'//p[contains(@class,\"blackText fontSize18 blackFont appendBottom2 makeFlex hrtlCenter\")]')\n",
    "for t31 in ti31:\n",
    "    print(t31.text)\n",
    "    time.append(t31.text)\n",
    "\n",
    "\n",
    "st31=driver.find_elements(By.XPATH,'//p[contains(@class,\"flightsLayoverInfo\")]')\n",
    "for s31 in st31:\n",
    "    print(s31.text)\n",
    "    stop.append(s31.text)\n",
    "\n",
    "\n",
    "fa31=driver.find_elements(By.XPATH,'//p[contains(@class,\"blackText fontSize18 blackFont white-space-no-wrap\")]')\n",
    "for f31 in fa31:\n",
    "    c=f31.text.replace('₹','')\n",
    "    fare.append(c.replace('',''))\n"
   ]
  },
  {
   "cell_type": "code",
   "execution_count": null,
   "id": "49aa7d77",
   "metadata": {},
   "outputs": [],
   "source": [
    "len(flight),len(flightno),len(route),len(time),len(stop),len(fare)"
   ]
  },
  {
   "cell_type": "code",
   "execution_count": null,
   "id": "b2393e9e",
   "metadata": {
    "scrolled": true
   },
   "outputs": [],
   "source": [
    "fl32=driver.find_elements(By.XPATH,'//p[contains(@class,\"boldFont blackText airlineName\")]')\n",
    "for f32 in fl32:\n",
    "    print(f32.text)\n",
    "    flight.append(f32.text)\n",
    "\n",
    "\n",
    "no32=driver.find_elements(By.XPATH,'//p[contains(@class,\"fliCode\")]')\n",
    "for n32 in no32:\n",
    "    print(n32.text)\n",
    "    flightno.append(n32.text)\n",
    "\n",
    "\n",
    "ro32=driver.find_elements(By.XPATH,'//p[contains(@class,\"darkText\")]')\n",
    "for r32 in ro32:\n",
    "    print(r32.text)\n",
    "    route.append(r32.text)\n",
    "\n",
    "\n",
    "ti32=driver.find_elements(By.XPATH,'//p[contains(@class,\"blackText fontSize18 blackFont appendBottom2 makeFlex hrtlCenter\")]')\n",
    "for t32 in ti32:\n",
    "    print(t32.text)\n",
    "    time.append(t32.text)\n",
    "\n",
    "\n",
    "st32=driver.find_elements(By.XPATH,'//p[contains(@class,\"flightsLayoverInfo\")]')\n",
    "for s32 in st32:\n",
    "    print(s32.text)\n",
    "    stop.append(s32.text)\n",
    "\n",
    "\n",
    "fa32=driver.find_elements(By.XPATH,'//p[contains(@class,\"blackText fontSize18 blackFont white-space-no-wrap\")]')\n",
    "for f32 in fa32:\n",
    "    c=f32.text.replace('₹','')\n",
    "    fare.append(c.replace('',''))"
   ]
  },
  {
   "cell_type": "code",
   "execution_count": null,
   "id": "684e132b",
   "metadata": {},
   "outputs": [],
   "source": [
    "len(flight),len(flightno),len(route),len(time),len(stop),len(fare)"
   ]
  },
  {
   "cell_type": "code",
   "execution_count": null,
   "id": "2ec29035",
   "metadata": {
    "scrolled": true
   },
   "outputs": [],
   "source": [
    "fl33=driver.find_elements(By.XPATH,'//p[contains(@class,\"boldFont blackText airlineName\")]')\n",
    "for f33 in fl33:\n",
    "    print(f33.text)\n",
    "    flight.append(f33.text)\n",
    "\n",
    "\n",
    "no33=driver.find_elements(By.XPATH,'//p[contains(@class,\"fliCode\")]')\n",
    "for n33 in no33:\n",
    "    print(n33.text)\n",
    "    flightno.append(n33.text)\n",
    "\n",
    "\n",
    "ro33=driver.find_elements(By.XPATH,'//p[contains(@class,\"darkText\")]')\n",
    "for r33 in ro33:\n",
    "    print(r33.text)\n",
    "    route.append(r33.text)\n",
    "\n",
    "\n",
    "ti33=driver.find_elements(By.XPATH,'//p[contains(@class,\"blackText fontSize18 blackFont appendBottom2 makeFlex hrtlCenter\")]')\n",
    "for t33 in ti33:\n",
    "    print(t33.text)\n",
    "    time.append(t33.text)\n",
    "\n",
    "\n",
    "st33=driver.find_elements(By.XPATH,'//p[contains(@class,\"flightsLayoverInfo\")]')\n",
    "for s33 in st33:\n",
    "    print(s33.text)\n",
    "    stop.append(s33.text)\n",
    "\n",
    "\n",
    "fa33=driver.find_elements(By.XPATH,'//p[contains(@class,\"blackText fontSize18 blackFont white-space-no-wrap\")]')\n",
    "for f33 in fa33:\n",
    "    c=f33.text.replace('₹','')\n",
    "    fare.append(c.replace('',''))"
   ]
  },
  {
   "cell_type": "code",
   "execution_count": null,
   "id": "a60d8a7f",
   "metadata": {
    "scrolled": true
   },
   "outputs": [],
   "source": [
    "len(flight),len(flightno),len(route),len(time),len(stop),len(fare)"
   ]
  },
  {
   "cell_type": "code",
   "execution_count": null,
   "id": "d8a32e28",
   "metadata": {
    "scrolled": true
   },
   "outputs": [],
   "source": [
    "fl34=driver.find_elements(By.XPATH,'//p[contains(@class,\"boldFont blackText airlineName\")]')\n",
    "for f34 in fl34:\n",
    "    print(f34.text)\n",
    "    flight.append(f34.text)\n",
    "\n",
    "\n",
    "no34=driver.find_elements(By.XPATH,'//p[contains(@class,\"fliCode\")]')\n",
    "for n34 in no34:\n",
    "    print(n34.text)\n",
    "    flightno.append(n34.text)\n",
    "\n",
    "\n",
    "ro34=driver.find_elements(By.XPATH,'//p[contains(@class,\"darkText\")]')\n",
    "for r34 in ro34:\n",
    "    print(r34.text)\n",
    "    route.append(r34.text)\n",
    "\n",
    "\n",
    "ti34=driver.find_elements(By.XPATH,'//p[contains(@class,\"blackText fontSize18 blackFont appendBottom2 makeFlex hrtlCenter\")]')\n",
    "for t34 in ti34:\n",
    "    print(t34.text)\n",
    "    time.append(t34.text)\n",
    "\n",
    "\n",
    "st34=driver.find_elements(By.XPATH,'//p[contains(@class,\"flightsLayoverInfo\")]')\n",
    "for s34 in st34:\n",
    "    print(s34.text)\n",
    "    stop.append(s34.text)\n",
    "\n",
    "\n",
    "fa34=driver.find_elements(By.XPATH,'//p[contains(@class,\"blackText fontSize18 blackFont white-space-no-wrap\")]')\n",
    "for f34 in fa34:\n",
    "    c=f34.text.replace('₹','')\n",
    "    fare.append(c.replace('',''))"
   ]
  },
  {
   "cell_type": "code",
   "execution_count": null,
   "id": "96bc9366",
   "metadata": {},
   "outputs": [],
   "source": [
    "len(flight),len(flightno),len(route),len(time),len(stop),len(fare)"
   ]
  },
  {
   "cell_type": "code",
   "execution_count": null,
   "id": "e1b8cece",
   "metadata": {
    "scrolled": true
   },
   "outputs": [],
   "source": [
    "fl35=driver.find_elements(By.XPATH,'//p[contains(@class,\"boldFont blackText airlineName\")]')\n",
    "for f35 in fl35:\n",
    "    print(f35.text)\n",
    "    flight.append(f35.text)\n",
    "\n",
    "\n",
    "no35=driver.find_elements(By.XPATH,'//p[contains(@class,\"fliCode\")]')\n",
    "for n35 in no35:\n",
    "    print(n35.text)\n",
    "    flightno.append(n35.text)\n",
    "\n",
    "\n",
    "ro35=driver.find_elements(By.XPATH,'//p[contains(@class,\"darkText\")]')\n",
    "for r35 in ro35:\n",
    "    print(r35.text)\n",
    "    route.append(r35.text)\n",
    "\n",
    "\n",
    "ti35=driver.find_elements(By.XPATH,'//p[contains(@class,\"blackText fontSize18 blackFont appendBottom2 makeFlex hrtlCenter\")]')\n",
    "for t35 in ti35:\n",
    "    print(t35.text)\n",
    "    time.append(t35.text)\n",
    "\n",
    "\n",
    "st35=driver.find_elements(By.XPATH,'//p[contains(@class,\"flightsLayoverInfo\")]')\n",
    "for s35 in st35:\n",
    "    print(s35.text)\n",
    "    stop.append(s35.text)\n",
    "\n",
    "\n",
    "fa35=driver.find_elements(By.XPATH,'//p[contains(@class,\"blackText fontSize18 blackFont white-space-no-wrap\")]')\n",
    "for f35 in fa35:\n",
    "    c=f35.text.replace('₹','')\n",
    "    fare.append(c.replace('',''))"
   ]
  },
  {
   "cell_type": "code",
   "execution_count": null,
   "id": "a787c4ba",
   "metadata": {},
   "outputs": [],
   "source": [
    "len(flight),len(flightno),len(route),len(time),len(stop),len(fare)"
   ]
  },
  {
   "cell_type": "code",
   "execution_count": null,
   "id": "cf3cfae3",
   "metadata": {
    "scrolled": true
   },
   "outputs": [],
   "source": [
    "fl36=driver.find_elements(By.XPATH,'//p[contains(@class,\"boldFont blackText airlineName\")]')\n",
    "for f36 in fl36:\n",
    "    print(f36.text)\n",
    "    flight.append(f36.text)\n",
    "\n",
    "\n",
    "no36=driver.find_elements(By.XPATH,'//p[contains(@class,\"fliCode\")]')\n",
    "for n36 in no36:\n",
    "    print(n36.text)\n",
    "    flightno.append(n36.text)\n",
    "\n",
    "\n",
    "ro36=driver.find_elements(By.XPATH,'//p[contains(@class,\"darkText\")]')\n",
    "for r36 in ro36:\n",
    "    print(r36.text)\n",
    "    route.append(r36.text)\n",
    "\n",
    "\n",
    "ti36=driver.find_elements(By.XPATH,'//p[contains(@class,\"blackText fontSize18 blackFont appendBottom2 makeFlex hrtlCenter\")]')\n",
    "for t36 in ti36:\n",
    "    print(t36.text)\n",
    "    time.append(t36.text)\n",
    "\n",
    "\n",
    "st36=driver.find_elements(By.XPATH,'//p[contains(@class,\"flightsLayoverInfo\")]')\n",
    "for s36 in st36:\n",
    "    print(s36.text)\n",
    "    stop.append(s36.text)\n",
    "\n",
    "\n",
    "fa36=driver.find_elements(By.XPATH,'//p[contains(@class,\"blackText fontSize18 blackFont white-space-no-wrap\")]')\n",
    "for f36 in fa36:\n",
    "    c=f36.text.replace('₹','')\n",
    "    fare.append(c.replace('',''))\n",
    "\n"
   ]
  },
  {
   "cell_type": "code",
   "execution_count": null,
   "id": "99b5a694",
   "metadata": {},
   "outputs": [],
   "source": [
    "len(flight),len(flightno),len(route),len(time),len(stop),len(fare)"
   ]
  },
  {
   "cell_type": "code",
   "execution_count": null,
   "id": "aa43e46e",
   "metadata": {},
   "outputs": [],
   "source": [
    "fl37=driver.find_elements(By.XPATH,'//p[contains(@class,\"boldFont blackText airlineName\")]')\n",
    "for f37 in fl37:\n",
    "    print(f37.text)\n",
    "    flight.append(f37.text)\n",
    "\n",
    "\n",
    "no37=driver.find_elements(By.XPATH,'//p[contains(@class,\"fliCode\")]')\n",
    "for n37 in no37:\n",
    "    print(n37.text)\n",
    "    flightno.append(n37.text)\n",
    "\n",
    "\n",
    "ro37=driver.find_elements(By.XPATH,'//p[contains(@class,\"darkText\")]')\n",
    "for r37 in ro37:\n",
    "    print(r37.text)\n",
    "    route.append(r37.text)\n",
    "\n",
    "\n",
    "ti37=driver.find_elements(By.XPATH,'//p[contains(@class,\"blackText fontSize18 blackFont appendBottom2 makeFlex hrtlCenter\")]')\n",
    "for t37 in ti37:\n",
    "    print(t37.text)\n",
    "    time.append(t37.text)\n",
    "\n",
    "\n",
    "st37=driver.find_elements(By.XPATH,'//p[contains(@class,\"flightsLayoverInfo\")]')\n",
    "for s37 in st37:\n",
    "    print(s37.text)\n",
    "    stop.append(s37.text)\n",
    "\n",
    "\n",
    "fa37=driver.find_elements(By.XPATH,'//p[contains(@class,\"blackText fontSize18 blackFont white-space-no-wrap\")]')\n",
    "for f37 in fa37:\n",
    "    c=f37.text.replace('₹','')\n",
    "    fare.append(c.replace('',''))\n",
    "\n"
   ]
  },
  {
   "cell_type": "code",
   "execution_count": null,
   "id": "aa95cf01",
   "metadata": {},
   "outputs": [],
   "source": [
    "len(flight),len(flightno),len(route),len(time),len(stop),len(fare)"
   ]
  },
  {
   "cell_type": "code",
   "execution_count": null,
   "id": "fa256e03",
   "metadata": {
    "scrolled": true
   },
   "outputs": [],
   "source": [
    "fl38=driver.find_elements(By.XPATH,'//p[contains(@class,\"boldFont blackText airlineName\")]')\n",
    "for f38 in fl38:\n",
    "    print(f38.text)\n",
    "    flight.append(f38.text)\n",
    "\n",
    "\n",
    "no38=driver.find_elements(By.XPATH,'//p[contains(@class,\"fliCode\")]')\n",
    "for n38 in no38:\n",
    "    print(n38.text)\n",
    "    flightno.append(n38.text)\n",
    "\n",
    "\n",
    "ro38=driver.find_elements(By.XPATH,'//p[contains(@class,\"darkText\")]')\n",
    "for r38 in ro38:\n",
    "    print(r38.text)\n",
    "    route.append(r38.text)\n",
    "\n",
    "\n",
    "ti38=driver.find_elements(By.XPATH,'//p[contains(@class,\"blackText fontSize18 blackFont appendBottom2 makeFlex hrtlCenter\")]')\n",
    "for t38 in ti38:\n",
    "    print(t38.text)\n",
    "    time.append(t38.text)\n",
    "\n",
    "\n",
    "st38=driver.find_elements(By.XPATH,'//p[contains(@class,\"flightsLayoverInfo\")]')\n",
    "for s38 in st38:\n",
    "    print(s38.text)\n",
    "    stop.append(s38.text)\n",
    "\n",
    "\n",
    "fa38=driver.find_elements(By.XPATH,'//p[contains(@class,\"blackText fontSize18 blackFont white-space-no-wrap\")]')\n",
    "for f38 in fa38:\n",
    "    c=f38.text.replace('₹','')\n",
    "    fare.append(c.replace('',''))\n"
   ]
  },
  {
   "cell_type": "code",
   "execution_count": null,
   "id": "776c9b12",
   "metadata": {},
   "outputs": [],
   "source": [
    "len(flight),len(flightno),len(route),len(time),len(stop),len(fare)"
   ]
  },
  {
   "cell_type": "code",
   "execution_count": null,
   "id": "185c2165",
   "metadata": {
    "scrolled": true
   },
   "outputs": [],
   "source": [
    "fl39=driver.find_elements(By.XPATH,'//p[contains(@class,\"boldFont blackText airlineName\")]')\n",
    "for f39 in fl39:\n",
    "    print(f39.text)\n",
    "    flight.append(f39.text)\n",
    "\n",
    "\n",
    "no39=driver.find_elements(By.XPATH,'//p[contains(@class,\"fliCode\")]')\n",
    "for n39 in no39:\n",
    "    print(n39.text)\n",
    "    flightno.append(n39.text)\n",
    "\n",
    "\n",
    "ro39=driver.find_elements(By.XPATH,'//p[contains(@class,\"darkText\")]')\n",
    "for r39 in ro39:\n",
    "    print(r39.text)\n",
    "    route.append(r39.text)\n",
    "\n",
    "\n",
    "ti39=driver.find_elements(By.XPATH,'//p[contains(@class,\"blackText fontSize18 blackFont appendBottom2 makeFlex hrtlCenter\")]')\n",
    "for t39 in ti39:\n",
    "    print(t39.text)\n",
    "    time.append(t39.text)\n",
    "\n",
    "\n",
    "st39=driver.find_elements(By.XPATH,'//p[contains(@class,\"flightsLayoverInfo\")]')\n",
    "for s39 in st39:\n",
    "    print(s39.text)\n",
    "    stop.append(s39.text)\n",
    "\n",
    "\n",
    "fa39=driver.find_elements(By.XPATH,'//p[contains(@class,\"blackText fontSize18 blackFont white-space-no-wrap\")]')\n",
    "for f39 in fa39:\n",
    "    c=f39.text.replace('₹','')\n",
    "    fare.append(c.replace('',''))\n"
   ]
  },
  {
   "cell_type": "code",
   "execution_count": null,
   "id": "a4f9821e",
   "metadata": {},
   "outputs": [],
   "source": [
    "len(flight),len(flightno),len(route),len(time),len(stop),len(fare)"
   ]
  },
  {
   "cell_type": "code",
   "execution_count": null,
   "id": "20d57b5f",
   "metadata": {
    "scrolled": true
   },
   "outputs": [],
   "source": [
    "fl40=driver.find_elements(By.XPATH,'//p[contains(@class,\"boldFont blackText airlineName\")]')\n",
    "for f40 in fl40:\n",
    "    print(f40.text)\n",
    "    flight.append(f40.text)\n",
    "\n",
    "\n",
    "no40=driver.find_elements(By.XPATH,'//p[contains(@class,\"fliCode\")]')\n",
    "for n40 in no40:\n",
    "    print(n40.text)\n",
    "    flightno.append(n40.text)\n",
    "\n",
    "\n",
    "ro40=driver.find_elements(By.XPATH,'//p[contains(@class,\"darkText\")]')\n",
    "for r40 in ro40:\n",
    "    print(r40.text)\n",
    "    route.append(r40.text)\n",
    "\n",
    "\n",
    "ti40=driver.find_elements(By.XPATH,'//p[contains(@class,\"blackText fontSize18 blackFont appendBottom2 makeFlex hrtlCenter\")]')\n",
    "for t40 in ti40:\n",
    "    print(t40.text)\n",
    "    time.append(t40.text)\n",
    "\n",
    "\n",
    "st40=driver.find_elements(By.XPATH,'//p[contains(@class,\"flightsLayoverInfo\")]')\n",
    "for s40 in st40:\n",
    "    print(s40.text)\n",
    "    stop.append(s40.text)\n",
    "\n",
    "\n",
    "fa40=driver.find_elements(By.XPATH,'//p[contains(@class,\"blackText fontSize18 blackFont white-space-no-wrap\")]')\n",
    "for f40 in fa40:\n",
    "    c=f40.text.replace('₹','')\n",
    "    fare.append(c.replace('',''))\n"
   ]
  },
  {
   "cell_type": "code",
   "execution_count": null,
   "id": "1ac84f7e",
   "metadata": {},
   "outputs": [],
   "source": [
    "len(flight),len(flightno),len(route),len(time),len(stop),len(fare)"
   ]
  },
  {
   "cell_type": "code",
   "execution_count": null,
   "id": "11169147",
   "metadata": {
    "scrolled": true
   },
   "outputs": [],
   "source": [
    "fl41=driver.find_elements(By.XPATH,'//p[contains(@class,\"boldFont blackText airlineName\")]')\n",
    "for f41 in fl41:\n",
    "    print(f41.text)\n",
    "    flight.append(f41.text)\n",
    "\n",
    "\n",
    "no41=driver.find_elements(By.XPATH,'//p[contains(@class,\"fliCode\")]')\n",
    "for n41 in no41:\n",
    "    print(n41.text)\n",
    "    flightno.append(n41.text)\n",
    "\n",
    "\n",
    "ro41=driver.find_elements(By.XPATH,'//p[contains(@class,\"darkText\")]')\n",
    "for r41 in ro41:\n",
    "    print(r41.text)\n",
    "    route.append(r41.text)\n",
    "\n",
    "\n",
    "ti41=driver.find_elements(By.XPATH,'//p[contains(@class,\"blackText fontSize18 blackFont appendBottom2 makeFlex hrtlCenter\")]')\n",
    "for t41 in ti41:\n",
    "    print(t41.text)\n",
    "    time.append(t41.text)\n",
    "\n",
    "\n",
    "st41=driver.find_elements(By.XPATH,'//p[contains(@class,\"flightsLayoverInfo\")]')\n",
    "for s41 in st41:\n",
    "    print(s41.text)\n",
    "    stop.append(s41.text)\n",
    "\n",
    "\n",
    "fa41=driver.find_elements(By.XPATH,'//p[contains(@class,\"blackText fontSize18 blackFont white-space-no-wrap\")]')\n",
    "for f41 in fa41:\n",
    "    c=f41.text.replace('₹','')\n",
    "    fare.append(c.replace('',''))\n"
   ]
  },
  {
   "cell_type": "code",
   "execution_count": null,
   "id": "9fdf46e4",
   "metadata": {},
   "outputs": [],
   "source": [
    "len(flight),len(flightno),len(route),len(time),len(stop),len(fare)"
   ]
  },
  {
   "cell_type": "code",
   "execution_count": null,
   "id": "7bfe1dc3",
   "metadata": {
    "scrolled": true
   },
   "outputs": [],
   "source": [
    "fl42=driver.find_elements(By.XPATH,'//p[contains(@class,\"boldFont blackText airlineName\")]')\n",
    "for f42 in fl42:\n",
    "    print(f42.text)\n",
    "    flight.append(f42.text)\n",
    "\n",
    "\n",
    "no42=driver.find_elements(By.XPATH,'//p[contains(@class,\"fliCode\")]')\n",
    "for n42 in no42:\n",
    "    print(n42.text)\n",
    "    flightno.append(n42.text)\n",
    "\n",
    "\n",
    "ro42=driver.find_elements(By.XPATH,'//p[contains(@class,\"darkText\")]')\n",
    "for r42 in ro42:\n",
    "    print(r42.text)\n",
    "    route.append(r42.text)\n",
    "\n",
    "\n",
    "ti42=driver.find_elements(By.XPATH,'//p[contains(@class,\"blackText fontSize18 blackFont appendBottom2 makeFlex hrtlCenter\")]')\n",
    "for t42 in ti42:\n",
    "    print(t42.text)\n",
    "    time.append(t42.text)\n",
    "\n",
    "\n",
    "st42=driver.find_elements(By.XPATH,'//p[contains(@class,\"flightsLayoverInfo\")]')\n",
    "for s42 in st42:\n",
    "    print(s42.text)\n",
    "    stop.append(s42.text)\n",
    "\n",
    "\n",
    "fa42=driver.find_elements(By.XPATH,'//p[contains(@class,\"blackText fontSize18 blackFont white-space-no-wrap\")]')\n",
    "for f42 in fa42:\n",
    "    c=f42.text.replace('₹','')\n",
    "    fare.append(c.replace('',''))\n",
    "\n"
   ]
  },
  {
   "cell_type": "code",
   "execution_count": null,
   "id": "a99644a1",
   "metadata": {},
   "outputs": [],
   "source": [
    "len(flight),len(flightno),len(route),len(time),len(stop),len(fare)"
   ]
  },
  {
   "cell_type": "code",
   "execution_count": null,
   "id": "ddd9772c",
   "metadata": {},
   "outputs": [],
   "source": [
    "df1=pd.DataFrame({'ROUTE':route})\n",
    "df1\n"
   ]
  },
  {
   "cell_type": "code",
   "execution_count": null,
   "id": "f28d5cdf",
   "metadata": {
    "scrolled": true
   },
   "outputs": [],
   "source": [
    "newdf1=df1[['ROUTE']][::2]\n",
    "newdf1"
   ]
  },
  {
   "cell_type": "code",
   "execution_count": null,
   "id": "c7e44cac",
   "metadata": {},
   "outputs": [],
   "source": [
    "newdf1.reset_index(inplace=True,drop=True)\n"
   ]
  },
  {
   "cell_type": "code",
   "execution_count": null,
   "id": "c7fae46a",
   "metadata": {},
   "outputs": [],
   "source": [
    "newdf1"
   ]
  },
  {
   "cell_type": "code",
   "execution_count": null,
   "id": "82f72c44",
   "metadata": {
    "scrolled": true
   },
   "outputs": [],
   "source": [
    "newdf1.rename(columns={\"ROUTE\":\"FROM\"},inplace=True)\n",
    "newdf1"
   ]
  },
  {
   "cell_type": "code",
   "execution_count": null,
   "id": "7f85c789",
   "metadata": {},
   "outputs": [],
   "source": [
    "FROM=newdf1['FROM'].tolist()"
   ]
  },
  {
   "cell_type": "code",
   "execution_count": null,
   "id": "1de691af",
   "metadata": {
    "scrolled": true
   },
   "outputs": [],
   "source": [
    "newdf2=df1[['ROUTE']][1::2]\n",
    "newdf2"
   ]
  },
  {
   "cell_type": "code",
   "execution_count": null,
   "id": "1f5d67c4",
   "metadata": {},
   "outputs": [],
   "source": [
    "newdf2.reset_index(inplace=True,drop=True)\n",
    "newdf2"
   ]
  },
  {
   "cell_type": "code",
   "execution_count": null,
   "id": "7a913ede",
   "metadata": {
    "scrolled": true
   },
   "outputs": [],
   "source": [
    "newdf2.rename(columns={'ROUTE':'TO'},inplace=True)\n",
    "newdf2"
   ]
  },
  {
   "cell_type": "code",
   "execution_count": null,
   "id": "cd77e017",
   "metadata": {},
   "outputs": [],
   "source": [
    "TO=newdf2['TO'].tolist()"
   ]
  },
  {
   "cell_type": "code",
   "execution_count": null,
   "id": "1f4046de",
   "metadata": {},
   "outputs": [],
   "source": [
    "df2=pd.DataFrame({\"TIME\":time})\n",
    "df2"
   ]
  },
  {
   "cell_type": "code",
   "execution_count": null,
   "id": "d69a2a59",
   "metadata": {
    "scrolled": true
   },
   "outputs": [],
   "source": [
    "newdf21=df2[['TIME']][::2]\n",
    "newdf21"
   ]
  },
  {
   "cell_type": "code",
   "execution_count": null,
   "id": "f169e7d3",
   "metadata": {},
   "outputs": [],
   "source": [
    "newdf21.reset_index(inplace=True,drop=True)\n",
    "newdf21"
   ]
  },
  {
   "cell_type": "code",
   "execution_count": null,
   "id": "abe7c107",
   "metadata": {
    "scrolled": true
   },
   "outputs": [],
   "source": [
    "newdf21.rename(columns={'TIME':'Departure'},inplace =True)\n",
    "newdf21"
   ]
  },
  {
   "cell_type": "code",
   "execution_count": null,
   "id": "00448917",
   "metadata": {},
   "outputs": [],
   "source": [
    "Departure=newdf21['Departure'].tolist()"
   ]
  },
  {
   "cell_type": "code",
   "execution_count": null,
   "id": "2c3db575",
   "metadata": {
    "scrolled": true
   },
   "outputs": [],
   "source": [
    "newdf22=df2[['TIME']][1::2]\n",
    "newdf22"
   ]
  },
  {
   "cell_type": "code",
   "execution_count": null,
   "id": "53713a10",
   "metadata": {},
   "outputs": [],
   "source": [
    "newdf22.reset_index(inplace=True,drop=True)\n",
    "newdf22"
   ]
  },
  {
   "cell_type": "code",
   "execution_count": null,
   "id": "ce0905eb",
   "metadata": {
    "scrolled": true
   },
   "outputs": [],
   "source": [
    "newdf22.rename(columns={'TIME':'Arrival'},inplace=True)\n",
    "newdf22"
   ]
  },
  {
   "cell_type": "code",
   "execution_count": null,
   "id": "7e22401d",
   "metadata": {},
   "outputs": [],
   "source": [
    "Arrival=newdf22['Arrival'].tolist()"
   ]
  },
  {
   "cell_type": "code",
   "execution_count": null,
   "id": "eba5c26f",
   "metadata": {},
   "outputs": [],
   "source": [
    "test=pd.DataFrame({\"FLIGHT\":flight,\"FLIGHT NO\":flightno,\"DEPARTURE\":Departure,\"FROM\":FROM,\"ARRIVAL\":Arrival,\"TO\":TO,\"STOP\":stop,\"FARE\":fare})\n",
    "test"
   ]
  },
  {
   "cell_type": "code",
   "execution_count": null,
   "id": "fb56b4a5",
   "metadata": {},
   "outputs": [],
   "source": [
    "file_name='TEST DATA'"
   ]
  },
  {
   "cell_type": "code",
   "execution_count": null,
   "id": "8405a1c1",
   "metadata": {
    "scrolled": false
   },
   "outputs": [],
   "source": [
    "test.to_excel(file_name,engine='xlsxwriter')"
   ]
  },
  {
   "cell_type": "code",
   "execution_count": null,
   "id": "4018ae57",
   "metadata": {},
   "outputs": [],
   "source": [
    "flight1=[]\n",
    "flightno1=[]\n",
    "route1=[]\n",
    "time1=[]\n",
    "stop1=[]\n",
    "fare1=[]"
   ]
  },
  {
   "cell_type": "code",
   "execution_count": null,
   "id": "3da16890",
   "metadata": {},
   "outputs": [],
   "source": [
    " fl43=driver.find_elements(By.XPATH,'//p[contains(@class,\"boldFont blackText airlineName\")]')\n",
    "for f43 in fl43:\n",
    "    print(f43.text)\n",
    "    flight1.append(f43.text)\n",
    "\n",
    "\n",
    "no43=driver.find_elements(By.XPATH,'//p[contains(@class,\"fliCode\")]')\n",
    "for n43 in no43:\n",
    "    print(n43.text)\n",
    "    flightno1.append(n43.text)\n",
    "\n",
    "\n",
    "ro43=driver.find_elements(By.XPATH,'//p[contains(@class,\"darkText\")]')\n",
    "for r43 in ro43:\n",
    "    print(r43.text)\n",
    "    route1.append(r43.text)\n",
    "\n",
    "\n",
    "ti43=driver.find_elements(By.XPATH,'//p[contains(@class,\"blackText fontSize18 blackFont appendBottom2 makeFlex hrtlCenter\")]')\n",
    "for t43 in ti43:\n",
    "    print(t43.text)\n",
    "    time1.append(t43.text)\n",
    "\n",
    "\n",
    "st43=driver.find_elements(By.XPATH,'//p[contains(@class,\"flightsLayoverInfo\")]')\n",
    "for s43 in st43:\n",
    "    print(s43.text)\n",
    "    stop1.append(s43.text)\n",
    "\n",
    "\n",
    "fa43=driver.find_elements(By.XPATH,'//p[contains(@class,\"blackText fontSize18 blackFont white-space-no-wrap\")]')\n",
    "for f43 in fa43:\n",
    "    c=f43.text.replace('₹','')\n",
    "    fare1.append(c.replace('',''))\n",
    "\n"
   ]
  },
  {
   "cell_type": "code",
   "execution_count": null,
   "id": "3bc7ef2f",
   "metadata": {},
   "outputs": [],
   "source": [
    "len(flight1),len(flightno1),len(route1),len(time1),len(stop1),len(fare1)"
   ]
  },
  {
   "cell_type": "code",
   "execution_count": null,
   "id": "09b53a53",
   "metadata": {},
   "outputs": [],
   "source": [
    "fl44=driver.find_elements(By.XPATH,'//p[contains(@class,\"boldFont blackText airlineName\")]')\n",
    "for f44 in fl44:\n",
    "    print(f44.text)\n",
    "    flight1.append(f44.text)\n",
    "\n",
    "\n",
    "no44=driver.find_elements(By.XPATH,'//p[contains(@class,\"fliCode\")]')\n",
    "for n44 in no44:\n",
    "    print(n44.text)\n",
    "    flightno1.append(n44.text)\n",
    "\n",
    "\n",
    "ro44=driver.find_elements(By.XPATH,'//p[contains(@class,\"darkText\")]')\n",
    "for r44 in ro44:\n",
    "    print(r44.text)\n",
    "    route1.append(r44.text)\n",
    "\n",
    "\n",
    "ti44=driver.find_elements(By.XPATH,'//p[contains(@class,\"blackText fontSize18 blackFont appendBottom2 makeFlex hrtlCenter\")]')\n",
    "for t44 in ti44:\n",
    "    print(t44.text)\n",
    "    time1.append(t44.text)\n",
    "\n",
    "\n",
    "st44=driver.find_elements(By.XPATH,'//p[contains(@class,\"flightsLayoverInfo\")]')\n",
    "for s44 in st44:\n",
    "    print(s44.text)\n",
    "    stop1.append(s44.text)\n",
    "\n",
    "\n",
    "fa44=driver.find_elements(By.XPATH,'//p[contains(@class,\"blackText fontSize18 blackFont white-space-no-wrap\")]')\n",
    "for f44 in fa44:\n",
    "    c=f44.text.replace('₹','')\n",
    "    fare1.append(c.replace('',''))\n",
    "\n"
   ]
  },
  {
   "cell_type": "code",
   "execution_count": null,
   "id": "4750df85",
   "metadata": {},
   "outputs": [],
   "source": [
    "len(flight1),len(flightno1),len(route1),len(time1),len(stop1),len(fare1)"
   ]
  },
  {
   "cell_type": "code",
   "execution_count": null,
   "id": "7536408f",
   "metadata": {},
   "outputs": [],
   "source": [
    "fl45=driver.find_elements(By.XPATH,'//p[contains(@class,\"boldFont blackText airlineName\")]')\n",
    "for f45 in fl45:\n",
    "    print(f45.text)\n",
    "    flight1.append(f45.text)\n",
    "\n",
    "\n",
    "no45=driver.find_elements(By.XPATH,'//p[contains(@class,\"fliCode\")]')\n",
    "for n45 in no45:\n",
    "    print(n45.text)\n",
    "    flightno1.append(n45.text)\n",
    "\n",
    "\n",
    "ro45=driver.find_elements(By.XPATH,'//p[contains(@class,\"darkText\")]')\n",
    "for r45 in ro45:\n",
    "    print(r45.text)\n",
    "    route1.append(r45.text)\n",
    "\n",
    "\n",
    "ti45=driver.find_elements(By.XPATH,'//p[contains(@class,\"blackText fontSize18 blackFont appendBottom2 makeFlex hrtlCenter\")]')\n",
    "for t45 in ti45:\n",
    "    print(t45.text)\n",
    "    time1.append(t45.text)\n",
    "\n",
    "\n",
    "st45=driver.find_elements(By.XPATH,'//p[contains(@class,\"flightsLayoverInfo\")]')\n",
    "for s45 in st45:\n",
    "    print(s45.text)\n",
    "    stop1.append(s45.text)\n",
    "\n",
    "\n",
    "fa45=driver.find_elements(By.XPATH,'//p[contains(@class,\"blackText fontSize18 blackFont white-space-no-wrap\")]')\n",
    "for f45 in fa45:\n",
    "    c=f45.text.replace('₹','')\n",
    "    fare1.append(c.replace('',''))\n",
    "\n"
   ]
  },
  {
   "cell_type": "code",
   "execution_count": null,
   "id": "535e8b35",
   "metadata": {},
   "outputs": [],
   "source": [
    "len(flight1),len(flightno1),len(route1),len(time1),len(stop1),len(fare1)"
   ]
  },
  {
   "cell_type": "code",
   "execution_count": null,
   "id": "0d065139",
   "metadata": {
    "scrolled": true
   },
   "outputs": [],
   "source": [
    "fl46=driver.find_elements(By.XPATH,'//p[contains(@class,\"boldFont blackText airlineName\")]')\n",
    "for f46 in fl46:\n",
    "    print(f46.text)\n",
    "    flight1.append(f46.text)\n",
    "\n",
    "\n",
    "no46=driver.find_elements(By.XPATH,'//p[contains(@class,\"fliCode\")]')\n",
    "for n46 in no46:\n",
    "    print(n46.text)\n",
    "    flightno1.append(n46.text)\n",
    "\n",
    "\n",
    "ro46=driver.find_elements(By.XPATH,'//p[contains(@class,\"darkText\")]')\n",
    "for r46 in ro46:\n",
    "    print(r46.text)\n",
    "    route1.append(r46.text)\n",
    "\n",
    "\n",
    "ti46=driver.find_elements(By.XPATH,'//p[contains(@class,\"blackText fontSize18 blackFont appendBottom2 makeFlex hrtlCenter\")]')\n",
    "for t46 in ti46:\n",
    "    print(t46.text)\n",
    "    time1.append(t46.text)\n",
    "\n",
    "\n",
    "st46=driver.find_elements(By.XPATH,'//p[contains(@class,\"flightsLayoverInfo\")]')\n",
    "for s46 in st46:\n",
    "    print(s46.text)\n",
    "    stop1.append(s46.text)\n",
    "\n",
    "\n",
    "fa46=driver.find_elements(By.XPATH,'//p[contains(@class,\"blackText fontSize18 blackFont white-space-no-wrap\")]')\n",
    "for f46 in fa46:\n",
    "    c=f46.text.replace('₹','')\n",
    "    fare1.append(c.replace('',''))\n",
    "\n"
   ]
  },
  {
   "cell_type": "code",
   "execution_count": null,
   "id": "5ace06ca",
   "metadata": {},
   "outputs": [],
   "source": [
    "len(flight1),len(flightno1),len(route1),len(time1),len(stop1),len(fare1)"
   ]
  },
  {
   "cell_type": "code",
   "execution_count": null,
   "id": "186cafbb",
   "metadata": {
    "scrolled": true
   },
   "outputs": [],
   "source": [
    "fl47=driver.find_elements(By.XPATH,'//p[contains(@class,\"boldFont blackText airlineName\")]')\n",
    "for f47 in fl47:\n",
    "    print(f47.text)\n",
    "    flight1.append(f47.text)\n",
    "\n",
    "\n",
    "no47=driver.find_elements(By.XPATH,'//p[contains(@class,\"fliCode\")]')\n",
    "for n47 in no47:\n",
    "    print(n47.text)\n",
    "    flightno1.append(n47.text)\n",
    "\n",
    "\n",
    "ro47=driver.find_elements(By.XPATH,'//p[contains(@class,\"darkText\")]')\n",
    "for r47 in ro47:\n",
    "    print(r47.text)\n",
    "    route1.append(r47.text)\n",
    "\n",
    "\n",
    "ti47=driver.find_elements(By.XPATH,'//p[contains(@class,\"blackText fontSize18 blackFont appendBottom2 makeFlex hrtlCenter\")]')\n",
    "for t47 in ti47:\n",
    "    print(t47.text)\n",
    "    time1.append(t47.text)\n",
    "\n",
    "\n",
    "st47=driver.find_elements(By.XPATH,'//p[contains(@class,\"flightsLayoverInfo\")]')\n",
    "for s47 in st47:\n",
    "    print(s47.text)\n",
    "    stop1.append(s47.text)\n",
    "\n",
    "\n",
    "fa47=driver.find_elements(By.XPATH,'//p[contains(@class,\"blackText fontSize18 blackFont white-space-no-wrap\")]')\n",
    "for f47 in fa47:\n",
    "    c=f47.text.replace('₹','')\n",
    "    fare1.append(c.replace('',''))\n",
    "\n"
   ]
  },
  {
   "cell_type": "code",
   "execution_count": null,
   "id": "06447e4d",
   "metadata": {},
   "outputs": [],
   "source": [
    "len(flight1),len(flightno1),len(route1),len(time1),len(stop1),len(fare1)"
   ]
  },
  {
   "cell_type": "code",
   "execution_count": null,
   "id": "54f97615",
   "metadata": {
    "scrolled": true
   },
   "outputs": [],
   "source": [
    "fl48=driver.find_elements(By.XPATH,'//p[contains(@class,\"boldFont blackText airlineName\")]')\n",
    "for f48 in fl48:\n",
    "    print(f48.text)\n",
    "    flight1.append(f48.text)\n",
    "\n",
    "\n",
    "no48=driver.find_elements(By.XPATH,'//p[contains(@class,\"fliCode\")]')\n",
    "for n48 in no48:\n",
    "    print(n48.text)\n",
    "    flightno1.append(n48.text)\n",
    "\n",
    "\n",
    "ro48=driver.find_elements(By.XPATH,'//p[contains(@class,\"darkText\")]')\n",
    "for r48 in ro48:\n",
    "    print(r48.text)\n",
    "    route1.append(r48.text)\n",
    "\n",
    "\n",
    "ti48=driver.find_elements(By.XPATH,'//p[contains(@class,\"blackText fontSize18 blackFont appendBottom2 makeFlex hrtlCenter\")]')\n",
    "for t48 in ti48:\n",
    "    print(t48.text)\n",
    "    time1.append(t48.text)\n",
    "\n",
    "\n",
    "st48=driver.find_elements(By.XPATH,'//p[contains(@class,\"flightsLayoverInfo\")]')\n",
    "for s48 in st48:\n",
    "    print(s48.text)\n",
    "    stop1.append(s48.text)\n",
    "\n",
    "\n",
    "fa48=driver.find_elements(By.XPATH,'//p[contains(@class,\"blackText fontSize18 blackFont white-space-no-wrap\")]')\n",
    "for f48 in fa48:\n",
    "    c=f48.text.replace('₹','')\n",
    "    fare1.append(c.replace('',''))\n",
    "\n"
   ]
  },
  {
   "cell_type": "code",
   "execution_count": null,
   "id": "ae884ba8",
   "metadata": {},
   "outputs": [],
   "source": [
    "len(flight1),len(flightno1),len(route1),len(time1),len(stop1),len(fare1)"
   ]
  },
  {
   "cell_type": "code",
   "execution_count": null,
   "id": "3c019f31",
   "metadata": {},
   "outputs": [],
   "source": [
    "fl49=driver.find_elements(By.XPATH,'//p[contains(@class,\"boldFont blackText airlineName\")]')\n",
    "for f49 in fl49:\n",
    "    print(f49.text)\n",
    "    flight1.append(f49.text)\n",
    "\n",
    "\n",
    "no49=driver.find_elements(By.XPATH,'//p[contains(@class,\"fliCode\")]')\n",
    "for n49 in no49:\n",
    "    print(n49.text)\n",
    "    flightno1.append(n49.text)\n",
    "\n",
    "\n",
    "ro49=driver.find_elements(By.XPATH,'//p[contains(@class,\"darkText\")]')\n",
    "for r49 in ro49:\n",
    "    print(r49.text)\n",
    "    route1.append(r49.text)\n",
    "\n",
    "\n",
    "ti49=driver.find_elements(By.XPATH,'//p[contains(@class,\"blackText fontSize18 blackFont appendBottom2 makeFlex hrtlCenter\")]')\n",
    "for t49 in ti49:\n",
    "    print(t49.text)\n",
    "    time1.append(t49.text)\n",
    "\n",
    "\n",
    "st49=driver.find_elements(By.XPATH,'//p[contains(@class,\"flightsLayoverInfo\")]')\n",
    "for s49 in st49:\n",
    "    print(s49.text)\n",
    "    stop1.append(s49.text)\n",
    "\n",
    "\n",
    "fa49=driver.find_elements(By.XPATH,'//p[contains(@class,\"blackText fontSize18 blackFont white-space-no-wrap\")]')\n",
    "for f49 in fa49:\n",
    "    c=f49.text.replace('₹','')\n",
    "    fare1.append(c.replace('',''))\n",
    "\n"
   ]
  },
  {
   "cell_type": "code",
   "execution_count": null,
   "id": "7136b1af",
   "metadata": {},
   "outputs": [],
   "source": [
    "len(flight1),len(flightno1),len(route1),len(time1),len(stop1),len(fare1)"
   ]
  },
  {
   "cell_type": "code",
   "execution_count": null,
   "id": "feb0df1d",
   "metadata": {
    "scrolled": true
   },
   "outputs": [],
   "source": [
    "fl50=driver.find_elements(By.XPATH,'//p[contains(@class,\"boldFont blackText airlineName\")]')\n",
    "for f50 in fl50:\n",
    "    print(f50.text)\n",
    "    flight1.append(f50.text)\n",
    "\n",
    "\n",
    "no50=driver.find_elements(By.XPATH,'//p[contains(@class,\"fliCode\")]')\n",
    "for n50 in no50:\n",
    "    print(n50.text)\n",
    "    flightno1.append(n50.text)\n",
    "\n",
    "\n",
    "ro50=driver.find_elements(By.XPATH,'//p[contains(@class,\"darkText\")]')\n",
    "for r50 in ro50:\n",
    "    print(r50.text)\n",
    "    route1.append(r50.text)\n",
    "\n",
    "\n",
    "ti50=driver.find_elements(By.XPATH,'//p[contains(@class,\"blackText fontSize18 blackFont appendBottom2 makeFlex hrtlCenter\")]')\n",
    "for t50 in ti50:\n",
    "    print(t50.text)\n",
    "    time1.append(t50.text)\n",
    "\n",
    "\n",
    "st50=driver.find_elements(By.XPATH,'//p[contains(@class,\"flightsLayoverInfo\")]')\n",
    "for s50 in st50:\n",
    "    print(s50.text)\n",
    "    stop1.append(s50.text)\n",
    "\n",
    "\n",
    "fa50=driver.find_elements(By.XPATH,'//p[contains(@class,\"blackText fontSize18 blackFont white-space-no-wrap\")]')\n",
    "for f50 in fa50:\n",
    "    c=f50.text.replace('₹','')\n",
    "    fare1.append(c.replace('',''))\n",
    "\n"
   ]
  },
  {
   "cell_type": "code",
   "execution_count": null,
   "id": "36168e6e",
   "metadata": {},
   "outputs": [],
   "source": [
    "len(flight1),len(flightno1),len(route1),len(time1),len(stop1),len(fare1)"
   ]
  },
  {
   "cell_type": "code",
   "execution_count": null,
   "id": "81f755fc",
   "metadata": {},
   "outputs": [],
   "source": [
    "fl51=driver.find_elements(By.XPATH,'//p[contains(@class,\"boldFont blackText airlineName\")]')\n",
    "for f51 in fl51:\n",
    "    print(f51.text)\n",
    "    flight1.append(f51.text)\n",
    "\n",
    "\n",
    "no51=driver.find_elements(By.XPATH,'//p[contains(@class,\"fliCode\")]')\n",
    "for n51 in no51:\n",
    "    print(n51.text)\n",
    "    flightno1.append(n51.text)\n",
    "\n",
    "\n",
    "ro51=driver.find_elements(By.XPATH,'//p[contains(@class,\"darkText\")]')\n",
    "for r51 in ro51:\n",
    "    print(r51.text)\n",
    "    route1.append(r51.text)\n",
    "\n",
    "\n",
    "ti51=driver.find_elements(By.XPATH,'//p[contains(@class,\"blackText fontSize18 blackFont appendBottom2 makeFlex hrtlCenter\")]')\n",
    "for t51 in ti51:\n",
    "    print(t51.text)\n",
    "    time1.append(t51.text)\n",
    "\n",
    "\n",
    "st51=driver.find_elements(By.XPATH,'//p[contains(@class,\"flightsLayoverInfo\")]')\n",
    "for s51 in st51:\n",
    "    print(s51.text)\n",
    "    stop1.append(s51.text)\n",
    "\n",
    "\n",
    "fa51=driver.find_elements(By.XPATH,'//p[contains(@class,\"blackText fontSize18 blackFont white-space-no-wrap\")]')\n",
    "for f51 in fa51:\n",
    "    c=f51.text.replace('₹','')\n",
    "    fare1.append(c.replace('',''))\n",
    "\n"
   ]
  },
  {
   "cell_type": "code",
   "execution_count": null,
   "id": "12bec7ce",
   "metadata": {},
   "outputs": [],
   "source": [
    "len(flight1),len(flightno1),len(route1),len(time1),len(stop1),len(fare1)"
   ]
  },
  {
   "cell_type": "code",
   "execution_count": null,
   "id": "77a00e4f",
   "metadata": {
    "scrolled": true
   },
   "outputs": [],
   "source": [
    "fl52=driver.find_elements(By.XPATH,'//p[contains(@class,\"boldFont blackText airlineName\")]')\n",
    "for f52 in fl52:\n",
    "    print(f52.text)\n",
    "    flight1.append(f52.text)\n",
    "\n",
    "\n",
    "no52=driver.find_elements(By.XPATH,'//p[contains(@class,\"fliCode\")]')\n",
    "for n52 in no52:\n",
    "    print(n52.text)\n",
    "    flightno1.append(n52.text)\n",
    "\n",
    "\n",
    "ro52=driver.find_elements(By.XPATH,'//p[contains(@class,\"darkText\")]')\n",
    "for r52 in ro52:\n",
    "    print(r52.text)\n",
    "    route1.append(r52.text)\n",
    "\n",
    "\n",
    "ti52=driver.find_elements(By.XPATH,'//p[contains(@class,\"blackText fontSize18 blackFont appendBottom2 makeFlex hrtlCenter\")]')\n",
    "for t52 in ti52:\n",
    "    print(t52.text)\n",
    "    time1.append(t52.text)\n",
    "\n",
    "\n",
    "st52=driver.find_elements(By.XPATH,'//p[contains(@class,\"flightsLayoverInfo\")]')\n",
    "for s52 in st52:\n",
    "    print(s52.text)\n",
    "    stop1.append(s52.text)\n",
    "\n",
    "\n",
    "fa52=driver.find_elements(By.XPATH,'//p[contains(@class,\"blackText fontSize18 blackFont white-space-no-wrap\")]')\n",
    "for f52 in fa52:\n",
    "    c=f52.text.replace('₹','')\n",
    "    fare1.append(c.replace('',''))\n",
    "\n"
   ]
  },
  {
   "cell_type": "code",
   "execution_count": null,
   "id": "e3811fa9",
   "metadata": {},
   "outputs": [],
   "source": [
    "len(flight1),len(flightno1),len(route1),len(time1),len(stop1),len(fare1)"
   ]
  },
  {
   "cell_type": "code",
   "execution_count": null,
   "id": "27b15477",
   "metadata": {
    "scrolled": true
   },
   "outputs": [],
   "source": [
    "fl53=driver.find_elements(By.XPATH,'//p[contains(@class,\"boldFont blackText airlineName\")]')\n",
    "for f53 in fl53:\n",
    "    print(f53.text)\n",
    "    flight1.append(f53.text)\n",
    "\n",
    "\n",
    "no53=driver.find_elements(By.XPATH,'//p[contains(@class,\"fliCode\")]')\n",
    "for n53 in no53:\n",
    "    print(n53.text)\n",
    "    flightno1.append(n53.text)\n",
    "\n",
    "\n",
    "ro53=driver.find_elements(By.XPATH,'//p[contains(@class,\"darkText\")]')\n",
    "for r53 in ro53:\n",
    "    print(r53.text)\n",
    "    route1.append(r53.text)\n",
    "\n",
    "\n",
    "ti53=driver.find_elements(By.XPATH,'//p[contains(@class,\"blackText fontSize18 blackFont appendBottom2 makeFlex hrtlCenter\")]')\n",
    "for t53 in ti53:\n",
    "    print(t53.text)\n",
    "    time1.append(t53.text)\n",
    "\n",
    "\n",
    "st53=driver.find_elements(By.XPATH,'//p[contains(@class,\"flightsLayoverInfo\")]')\n",
    "for s53 in st53:\n",
    "    print(s53.text)\n",
    "    stop1.append(s53.text)\n",
    "\n",
    "\n",
    "fa53=driver.find_elements(By.XPATH,'//p[contains(@class,\"blackText fontSize18 blackFont white-space-no-wrap\")]')\n",
    "for f53 in fa53:\n",
    "    c=f53.text.replace('₹','')\n",
    "    fare1.append(c.replace('',''))\n",
    "\n"
   ]
  },
  {
   "cell_type": "code",
   "execution_count": null,
   "id": "407063fc",
   "metadata": {},
   "outputs": [],
   "source": [
    "len(flight1),len(flightno1),len(route1),len(time1),len(stop1),len(fare1)"
   ]
  },
  {
   "cell_type": "code",
   "execution_count": null,
   "id": "fb212093",
   "metadata": {
    "scrolled": true
   },
   "outputs": [],
   "source": [
    "fl54=driver.find_elements(By.XPATH,'//p[contains(@class,\"boldFont blackText airlineName\")]')\n",
    "for f54 in fl54:\n",
    "    print(f54.text)\n",
    "    flight1.append(f54.text)\n",
    "\n",
    "\n",
    "no54=driver.find_elements(By.XPATH,'//p[contains(@class,\"fliCode\")]')\n",
    "for n54 in no54:\n",
    "    print(n54.text)\n",
    "    flightno1.append(n54.text)\n",
    "\n",
    "\n",
    "ro54=driver.find_elements(By.XPATH,'//p[contains(@class,\"darkText\")]')\n",
    "for r54 in ro54:\n",
    "    print(r54.text)\n",
    "    route1.append(r54.text)\n",
    "\n",
    "\n",
    "ti54=driver.find_elements(By.XPATH,'//p[contains(@class,\"blackText fontSize18 blackFont appendBottom2 makeFlex hrtlCenter\")]')\n",
    "for t54 in ti54:\n",
    "    print(t54.text)\n",
    "    time1.append(t54.text)\n",
    "\n",
    "\n",
    "st54=driver.find_elements(By.XPATH,'//p[contains(@class,\"flightsLayoverInfo\")]')\n",
    "for s54 in st54:\n",
    "    print(s54.text)\n",
    "    stop1.append(s54.text)\n",
    "\n",
    "\n",
    "fa54=driver.find_elements(By.XPATH,'//p[contains(@class,\"blackText fontSize18 blackFont white-space-no-wrap\")]')\n",
    "for f54 in fa54:\n",
    "    c=f54.text.replace('₹','')\n",
    "    fare1.append(c.replace('',''))\n",
    "\n"
   ]
  },
  {
   "cell_type": "code",
   "execution_count": null,
   "id": "72b17c1d",
   "metadata": {},
   "outputs": [],
   "source": [
    "len(flight1),len(flightno1),len(route1),len(time1),len(stop1),len(fare1)"
   ]
  },
  {
   "cell_type": "code",
   "execution_count": null,
   "id": "dc0a02ac",
   "metadata": {
    "scrolled": true
   },
   "outputs": [],
   "source": [
    "fl55=driver.find_elements(By.XPATH,'//p[contains(@class,\"boldFont blackText airlineName\")]')\n",
    "for f55 in fl55:\n",
    "    print(f55.text)\n",
    "    flight1.append(f55.text)\n",
    "\n",
    "\n",
    "no55=driver.find_elements(By.XPATH,'//p[contains(@class,\"fliCode\")]')\n",
    "for n55 in no55:\n",
    "    print(n55.text)\n",
    "    flightno1.append(n55.text)\n",
    "\n",
    "\n",
    "ro55=driver.find_elements(By.XPATH,'//p[contains(@class,\"darkText\")]')\n",
    "for r55 in ro55:\n",
    "    print(r55.text)\n",
    "    route1.append(r55.text)\n",
    "\n",
    "\n",
    "ti55=driver.find_elements(By.XPATH,'//p[contains(@class,\"blackText fontSize18 blackFont appendBottom2 makeFlex hrtlCenter\")]')\n",
    "for t55 in ti55:\n",
    "    print(t55.text)\n",
    "    time1.append(t55.text)\n",
    "\n",
    "\n",
    "st55=driver.find_elements(By.XPATH,'//p[contains(@class,\"flightsLayoverInfo\")]')\n",
    "for s55 in st55:\n",
    "    print(s55.text)\n",
    "    stop1.append(s55.text)\n",
    "\n",
    "\n",
    "fa55=driver.find_elements(By.XPATH,'//p[contains(@class,\"blackText fontSize18 blackFont white-space-no-wrap\")]')\n",
    "for f55 in fa55:\n",
    "    c=f55.text.replace('₹','')\n",
    "    fare1.append(c.replace('',''))\n",
    "\n"
   ]
  },
  {
   "cell_type": "code",
   "execution_count": null,
   "id": "1565be88",
   "metadata": {},
   "outputs": [],
   "source": [
    "len(flight1),len(flightno1),len(route1),len(time1),len(stop1),len(fare1)"
   ]
  },
  {
   "cell_type": "code",
   "execution_count": null,
   "id": "d143151e",
   "metadata": {},
   "outputs": [],
   "source": [
    "fl56=driver.find_elements(By.XPATH,'//p[contains(@class,\"boldFont blackText airlineName\")]')\n",
    "for f56 in fl56:\n",
    "    print(f56.text)\n",
    "    flight1.append(f56.text)\n",
    "\n",
    "\n",
    "no56=driver.find_elements(By.XPATH,'//p[contains(@class,\"fliCode\")]')\n",
    "for n56 in no56:\n",
    "    print(n56.text)\n",
    "    flightno1.append(n56.text)\n",
    "\n",
    "\n",
    "ro56=driver.find_elements(By.XPATH,'//p[contains(@class,\"darkText\")]')\n",
    "for r56 in ro56:\n",
    "    print(r56.text)\n",
    "    route1.append(r56.text)\n",
    "\n",
    "\n",
    "ti56=driver.find_elements(By.XPATH,'//p[contains(@class,\"blackText fontSize18 blackFont appendBottom2 makeFlex hrtlCenter\")]')\n",
    "for t56 in ti56:\n",
    "    print(t56.text)\n",
    "    time1.append(t56.text)\n",
    "\n",
    "\n",
    "st56=driver.find_elements(By.XPATH,'//p[contains(@class,\"flightsLayoverInfo\")]')\n",
    "for s56 in st56:\n",
    "    print(s56.text)\n",
    "    stop1.append(s56.text)\n",
    "\n",
    "\n",
    "fa56=driver.find_elements(By.XPATH,'//p[contains(@class,\"blackText fontSize18 blackFont white-space-no-wrap\")]')\n",
    "for f56 in fa56:\n",
    "    c=f56.text.replace('₹','')\n",
    "    fare1.append(c.replace('',''))\n",
    "\n"
   ]
  },
  {
   "cell_type": "code",
   "execution_count": null,
   "id": "1f29bc37",
   "metadata": {},
   "outputs": [],
   "source": [
    "len(flight1),len(flightno1),len(route1),len(time1),len(stop1),len(fare1)"
   ]
  },
  {
   "cell_type": "code",
   "execution_count": null,
   "id": "15883b86",
   "metadata": {},
   "outputs": [],
   "source": [
    "fl57=driver.find_elements(By.XPATH,'//p[contains(@class,\"boldFont blackText airlineName\")]')\n",
    "for f57 in fl57:\n",
    "    print(f57.text)\n",
    "    flight1.append(f57.text)\n",
    "\n",
    "\n",
    "no57=driver.find_elements(By.XPATH,'//p[contains(@class,\"fliCode\")]')\n",
    "for n57 in no57:\n",
    "    print(n57.text)\n",
    "    flightno1.append(n57.text)\n",
    "\n",
    "\n",
    "ro57=driver.find_elements(By.XPATH,'//p[contains(@class,\"darkText\")]')\n",
    "for r57 in ro57:\n",
    "    print(r57.text)\n",
    "    route1.append(r57.text)\n",
    "\n",
    "\n",
    "ti57=driver.find_elements(By.XPATH,'//p[contains(@class,\"blackText fontSize18 blackFont appendBottom2 makeFlex hrtlCenter\")]')\n",
    "for t57 in ti57:\n",
    "    print(t57.text)\n",
    "    time1.append(t57.text)\n",
    "\n",
    "\n",
    "st57=driver.find_elements(By.XPATH,'//p[contains(@class,\"flightsLayoverInfo\")]')\n",
    "for s57 in st57:\n",
    "    print(s57.text)\n",
    "    stop1.append(s57.text)\n",
    "\n",
    "\n",
    "fa57=driver.find_elements(By.XPATH,'//p[contains(@class,\"blackText fontSize18 blackFont white-space-no-wrap\")]')\n",
    "for f57 in fa57:\n",
    "    c=f57.text.replace('₹','')\n",
    "    fare1.append(c.replace('',''))\n",
    "\n"
   ]
  },
  {
   "cell_type": "code",
   "execution_count": null,
   "id": "e5e3ebab",
   "metadata": {},
   "outputs": [],
   "source": [
    "len(flight1),len(flightno1),len(route1),len(time1),len(stop1),len(fare1)"
   ]
  },
  {
   "cell_type": "code",
   "execution_count": null,
   "id": "1d510c1e",
   "metadata": {},
   "outputs": [],
   "source": [
    "fl58=driver.find_elements(By.XPATH,'//p[contains(@class,\"boldFont blackText airlineName\")]')\n",
    "for f58 in fl58:\n",
    "    print(f58.text)\n",
    "    flight1.append(f58.text)\n",
    "\n",
    "\n",
    "no58=driver.find_elements(By.XPATH,'//p[contains(@class,\"fliCode\")]')\n",
    "for n58 in no58:\n",
    "    print(n58.text)\n",
    "    flightno1.append(n58.text)\n",
    "\n",
    "\n",
    "ro58=driver.find_elements(By.XPATH,'//p[contains(@class,\"darkText\")]')\n",
    "for r58 in ro58:\n",
    "    print(r58.text)\n",
    "    route1.append(r58.text)\n",
    "\n",
    "\n",
    "ti58=driver.find_elements(By.XPATH,'//p[contains(@class,\"blackText fontSize18 blackFont appendBottom2 makeFlex hrtlCenter\")]')\n",
    "for t58 in ti58:\n",
    "    print(t58.text)\n",
    "    time1.append(t58.text)\n",
    "\n",
    "\n",
    "st58=driver.find_elements(By.XPATH,'//p[contains(@class,\"flightsLayoverInfo\")]')\n",
    "for s58 in st58:\n",
    "    print(s58.text)\n",
    "    stop1.append(s58.text)\n",
    "\n",
    "\n",
    "fa58=driver.find_elements(By.XPATH,'//p[contains(@class,\"blackText fontSize18 blackFont white-space-no-wrap\")]')\n",
    "for f58 in fa58:\n",
    "    c=f58.text.replace('₹','')\n",
    "    fare1.append(c.replace('',''))\n",
    "\n"
   ]
  },
  {
   "cell_type": "code",
   "execution_count": null,
   "id": "81d73759",
   "metadata": {},
   "outputs": [],
   "source": [
    "len(flight1),len(flightno1),len(route1),len(time1),len(stop1),len(fare1)"
   ]
  },
  {
   "cell_type": "code",
   "execution_count": null,
   "id": "280a1779",
   "metadata": {},
   "outputs": [],
   "source": [
    "fl59=driver.find_elements(By.XPATH,'//p[contains(@class,\"boldFont blackText airlineName\")]')\n",
    "for f59 in fl59:\n",
    "    print(f59.text)\n",
    "    flight1.append(f59.text)\n",
    "\n",
    "\n",
    "no59=driver.find_elements(By.XPATH,'//p[contains(@class,\"fliCode\")]')\n",
    "for n59 in no59:\n",
    "    print(n59.text)\n",
    "    flightno1.append(n59.text)\n",
    "\n",
    "\n",
    "ro59=driver.find_elements(By.XPATH,'//p[contains(@class,\"darkText\")]')\n",
    "for r59 in ro59:\n",
    "    print(r59.text)\n",
    "    route1.append(r59.text)\n",
    "\n",
    "\n",
    "ti59=driver.find_elements(By.XPATH,'//p[contains(@class,\"blackText fontSize18 blackFont appendBottom2 makeFlex hrtlCenter\")]')\n",
    "for t59 in ti59:\n",
    "    print(t59.text)\n",
    "    time1.append(t59.text)\n",
    "\n",
    "\n",
    "st59=driver.find_elements(By.XPATH,'//p[contains(@class,\"flightsLayoverInfo\")]')\n",
    "for s59 in st59:\n",
    "    print(s59.text)\n",
    "    stop1.append(s59.text)\n",
    "\n",
    "\n",
    "fa59=driver.find_elements(By.XPATH,'//p[contains(@class,\"blackText fontSize18 blackFont white-space-no-wrap\")]')\n",
    "for f59 in fa59:\n",
    "    c=f59.text.replace('₹','')\n",
    "    fare1.append(c.replace('',''))\n",
    "\n"
   ]
  },
  {
   "cell_type": "code",
   "execution_count": null,
   "id": "835c3ede",
   "metadata": {},
   "outputs": [],
   "source": [
    "len(flight1),len(flightno1),len(route1),len(time1),len(stop1),len(fare1)"
   ]
  },
  {
   "cell_type": "code",
   "execution_count": null,
   "id": "5bf76543",
   "metadata": {
    "scrolled": true
   },
   "outputs": [],
   "source": [
    "fl60=driver.find_elements(By.XPATH,'//p[contains(@class,\"boldFont blackText airlineName\")]')\n",
    "for f60 in fl60:\n",
    "    print(f60.text)\n",
    "    flight1.append(f60.text)\n",
    "\n",
    "\n",
    "no60=driver.find_elements(By.XPATH,'//p[contains(@class,\"fliCode\")]')\n",
    "for n60 in no60:\n",
    "    print(n60.text)\n",
    "    flightno1.append(n60.text)\n",
    "\n",
    "\n",
    "ro60=driver.find_elements(By.XPATH,'//p[contains(@class,\"darkText\")]')\n",
    "for r60 in ro60:\n",
    "    print(r60.text)\n",
    "    route1.append(r60.text)\n",
    "\n",
    "\n",
    "ti60=driver.find_elements(By.XPATH,'//p[contains(@class,\"blackText fontSize18 blackFont appendBottom2 makeFlex hrtlCenter\")]')\n",
    "for t60 in ti60:\n",
    "    print(t60.text)\n",
    "    time1.append(t60.text)\n",
    "\n",
    "\n",
    "st60=driver.find_elements(By.XPATH,'//p[contains(@class,\"flightsLayoverInfo\")]')\n",
    "for s60 in st60:\n",
    "    print(s60.text)\n",
    "    stop1.append(s60.text)\n",
    "\n",
    "\n",
    "fa60=driver.find_elements(By.XPATH,'//p[contains(@class,\"blackText fontSize18 blackFont white-space-no-wrap\")]')\n",
    "for f60 in fa60:\n",
    "    c=f60.text.replace('₹','')\n",
    "    fare1.append(c.replace('',''))\n",
    "\n"
   ]
  },
  {
   "cell_type": "code",
   "execution_count": null,
   "id": "a620ee2f",
   "metadata": {},
   "outputs": [],
   "source": [
    "len(flight1),len(flightno1),len(route1),len(time1),len(stop1),len(fare1)"
   ]
  },
  {
   "cell_type": "code",
   "execution_count": null,
   "id": "b16506bd",
   "metadata": {
    "scrolled": true
   },
   "outputs": [],
   "source": [
    "fl61=driver.find_elements(By.XPATH,'//p[contains(@class,\"boldFont blackText airlineName\")]')\n",
    "for f61 in fl61:\n",
    "    print(f61.text)\n",
    "    flight1.append(f61.text)\n",
    "\n",
    "\n",
    "no61=driver.find_elements(By.XPATH,'//p[contains(@class,\"fliCode\")]')\n",
    "for n61 in no61:\n",
    "    print(n61.text)\n",
    "    flightno1.append(n61.text)\n",
    "\n",
    "\n",
    "ro61=driver.find_elements(By.XPATH,'//p[contains(@class,\"darkText\")]')\n",
    "for r61 in ro61:\n",
    "    print(r61.text)\n",
    "    route1.append(r61.text)\n",
    "\n",
    "\n",
    "ti61=driver.find_elements(By.XPATH,'//p[contains(@class,\"blackText fontSize18 blackFont appendBottom2 makeFlex hrtlCenter\")]')\n",
    "for t61 in ti61:\n",
    "    print(t61.text)\n",
    "    time1.append(t61.text)\n",
    "\n",
    "\n",
    "st61=driver.find_elements(By.XPATH,'//p[contains(@class,\"flightsLayoverInfo\")]')\n",
    "for s61 in st61:\n",
    "    print(s61.text)\n",
    "    stop1.append(s61.text)\n",
    "\n",
    "\n",
    "fa61=driver.find_elements(By.XPATH,'//p[contains(@class,\"blackText fontSize18 blackFont white-space-no-wrap\")]')\n",
    "for f61 in fa61:\n",
    "    c=f61.text.replace('₹','')\n",
    "    fare1.append(c.replace('',''))\n",
    "\n"
   ]
  },
  {
   "cell_type": "code",
   "execution_count": null,
   "id": "12e9e0e3",
   "metadata": {},
   "outputs": [],
   "source": [
    "len(flight1),len(flightno1),len(route1),len(time1),len(stop1),len(fare1)"
   ]
  },
  {
   "cell_type": "code",
   "execution_count": null,
   "id": "30f3fef4",
   "metadata": {
    "scrolled": true
   },
   "outputs": [],
   "source": [
    "fl62=driver.find_elements(By.XPATH,'//p[contains(@class,\"boldFont blackText airlineName\")]')\n",
    "for f62 in fl62:\n",
    "    print(f62.text)\n",
    "    flight1.append(f62.text)\n",
    "\n",
    "\n",
    "no62=driver.find_elements(By.XPATH,'//p[contains(@class,\"fliCode\")]')\n",
    "for n62 in no62:\n",
    "    print(n62.text)\n",
    "    flightno1.append(n62.text)\n",
    "\n",
    "\n",
    "ro62=driver.find_elements(By.XPATH,'//p[contains(@class,\"darkText\")]')\n",
    "for r62 in ro62:\n",
    "    print(r62.text)\n",
    "    route1.append(r62.text)\n",
    "\n",
    "\n",
    "ti62=driver.find_elements(By.XPATH,'//p[contains(@class,\"blackText fontSize18 blackFont appendBottom2 makeFlex hrtlCenter\")]')\n",
    "for t62 in ti62:\n",
    "    print(t62.text)\n",
    "    time1.append(t62.text)\n",
    "\n",
    "\n",
    "st62=driver.find_elements(By.XPATH,'//p[contains(@class,\"flightsLayoverInfo\")]')\n",
    "for s62 in st62:\n",
    "    print(s62.text)\n",
    "    stop1.append(s62.text)\n",
    "\n",
    "\n",
    "fa62=driver.find_elements(By.XPATH,'//p[contains(@class,\"blackText fontSize18 blackFont white-space-no-wrap\")]')\n",
    "for f62 in fa62:\n",
    "    c=f62.text.replace('₹','')\n",
    "    fare1.append(c.replace('',''))\n",
    "\n"
   ]
  },
  {
   "cell_type": "code",
   "execution_count": null,
   "id": "1f496509",
   "metadata": {},
   "outputs": [],
   "source": [
    "len(flight1),len(flightno1),len(route1),len(time1),len(stop1),len(fare1)"
   ]
  },
  {
   "cell_type": "code",
   "execution_count": null,
   "id": "22e806be",
   "metadata": {
    "scrolled": true
   },
   "outputs": [],
   "source": [
    "fl63=driver.find_elements(By.XPATH,'//p[contains(@class,\"boldFont blackText airlineName\")]')\n",
    "for f63 in fl63:\n",
    "    print(f63.text)\n",
    "    flight1.append(f63.text)\n",
    "\n",
    "\n",
    "no63=driver.find_elements(By.XPATH,'//p[contains(@class,\"fliCode\")]')\n",
    "for n63 in no63:\n",
    "    print(n63.text)\n",
    "    flightno1.append(n63.text)\n",
    "\n",
    "\n",
    "ro63=driver.find_elements(By.XPATH,'//p[contains(@class,\"darkText\")]')\n",
    "for r63 in ro63:\n",
    "    print(r63.text)\n",
    "    route1.append(r63.text)\n",
    "\n",
    "\n",
    "ti63=driver.find_elements(By.XPATH,'//p[contains(@class,\"blackText fontSize18 blackFont appendBottom2 makeFlex hrtlCenter\")]')\n",
    "for t63 in ti63:\n",
    "    print(t63.text)\n",
    "    time1.append(t63.text)\n",
    "\n",
    "\n",
    "st63=driver.find_elements(By.XPATH,'//p[contains(@class,\"flightsLayoverInfo\")]')\n",
    "for s63 in st63:\n",
    "    print(s63.text)\n",
    "    stop1.append(s63.text)\n",
    "\n",
    "\n",
    "fa63=driver.find_elements(By.XPATH,'//p[contains(@class,\"blackText fontSize18 blackFont white-space-no-wrap\")]')\n",
    "for f63 in fa63:\n",
    "    c=f63.text.replace('₹','')\n",
    "    fare1.append(c.replace('',''))\n",
    "\n"
   ]
  },
  {
   "cell_type": "code",
   "execution_count": null,
   "id": "2a6042b3",
   "metadata": {},
   "outputs": [],
   "source": [
    "len(flight1),len(flightno1),len(route1),len(time1),len(stop1),len(fare1)"
   ]
  },
  {
   "cell_type": "code",
   "execution_count": null,
   "id": "f7abc860",
   "metadata": {},
   "outputs": [],
   "source": [
    "df3=pd.DataFrame({'ROUTE':route1})\n",
    "df3\n"
   ]
  },
  {
   "cell_type": "code",
   "execution_count": null,
   "id": "49bdcf02",
   "metadata": {},
   "outputs": [],
   "source": [
    "newdf3=df3[['ROUTE']][::2]\n",
    "newdf3"
   ]
  },
  {
   "cell_type": "code",
   "execution_count": null,
   "id": "2dca6a76",
   "metadata": {},
   "outputs": [],
   "source": [
    "newdf3.reset_index(inplace=True,drop=True)"
   ]
  },
  {
   "cell_type": "code",
   "execution_count": null,
   "id": "439ec03f",
   "metadata": {},
   "outputs": [],
   "source": [
    "newdf3"
   ]
  },
  {
   "cell_type": "code",
   "execution_count": null,
   "id": "62cb97e5",
   "metadata": {},
   "outputs": [],
   "source": [
    "newdf3.rename(columns={\"ROUTE\":\"FROM\"},inplace=True)\n",
    "newdf3"
   ]
  },
  {
   "cell_type": "code",
   "execution_count": null,
   "id": "41549381",
   "metadata": {},
   "outputs": [],
   "source": [
    "from1=newdf3['FROM'].tolist()"
   ]
  },
  {
   "cell_type": "code",
   "execution_count": null,
   "id": "326ec717",
   "metadata": {},
   "outputs": [],
   "source": [
    "newdf31=df3[['ROUTE']][1::2]\n",
    "newdf31"
   ]
  },
  {
   "cell_type": "code",
   "execution_count": null,
   "id": "e19b4aff",
   "metadata": {},
   "outputs": [],
   "source": [
    "newdf31.reset_index(inplace=True,drop=True)"
   ]
  },
  {
   "cell_type": "code",
   "execution_count": null,
   "id": "8e161b7b",
   "metadata": {},
   "outputs": [],
   "source": [
    "newdf31"
   ]
  },
  {
   "cell_type": "code",
   "execution_count": null,
   "id": "78b5f5a7",
   "metadata": {},
   "outputs": [],
   "source": [
    "newdf31.rename(columns={\"ROUTE\":\"To\"},inplace=True)\n",
    "newdf31"
   ]
  },
  {
   "cell_type": "code",
   "execution_count": null,
   "id": "efb33671",
   "metadata": {},
   "outputs": [],
   "source": [
    "to1=newdf31['To'].tolist()"
   ]
  },
  {
   "cell_type": "code",
   "execution_count": null,
   "id": "505e0e06",
   "metadata": {},
   "outputs": [],
   "source": [
    "df4=pd.DataFrame({'TIME':time1})\n",
    "df4\n"
   ]
  },
  {
   "cell_type": "code",
   "execution_count": null,
   "id": "46c5f51f",
   "metadata": {},
   "outputs": [],
   "source": [
    "newdf4=df4[['TIME']][::2]\n",
    "newdf4"
   ]
  },
  {
   "cell_type": "code",
   "execution_count": null,
   "id": "7c4d5f97",
   "metadata": {},
   "outputs": [],
   "source": [
    "newdf4.reset_index(inplace=True,drop=True)"
   ]
  },
  {
   "cell_type": "code",
   "execution_count": null,
   "id": "323f5e12",
   "metadata": {},
   "outputs": [],
   "source": [
    "newdf4"
   ]
  },
  {
   "cell_type": "code",
   "execution_count": null,
   "id": "f504b8fe",
   "metadata": {},
   "outputs": [],
   "source": [
    "newdf4.rename(columns={\"TIME\":\"Departure\"},inplace=True)\n",
    "newdf4"
   ]
  },
  {
   "cell_type": "code",
   "execution_count": null,
   "id": "59c29c8b",
   "metadata": {},
   "outputs": [],
   "source": [
    "departure1=newdf4['Departure'].tolist()"
   ]
  },
  {
   "cell_type": "code",
   "execution_count": null,
   "id": "4ff8ebce",
   "metadata": {},
   "outputs": [],
   "source": [
    "newdf41=df4[['TIME']][1::2]\n",
    "newdf41"
   ]
  },
  {
   "cell_type": "code",
   "execution_count": null,
   "id": "58daf16b",
   "metadata": {},
   "outputs": [],
   "source": [
    "newdf41.reset_index(inplace=True,drop=True)"
   ]
  },
  {
   "cell_type": "code",
   "execution_count": null,
   "id": "81ebbbbe",
   "metadata": {},
   "outputs": [],
   "source": [
    "newdf41"
   ]
  },
  {
   "cell_type": "code",
   "execution_count": null,
   "id": "0e084df4",
   "metadata": {},
   "outputs": [],
   "source": [
    "newdf41.rename(columns={\"TIME\":\"Arrival\"},inplace=True)\n",
    "newdf41"
   ]
  },
  {
   "cell_type": "code",
   "execution_count": null,
   "id": "81fb317d",
   "metadata": {},
   "outputs": [],
   "source": [
    "arrival1=newdf41['Arrival'].tolist()"
   ]
  },
  {
   "cell_type": "code",
   "execution_count": null,
   "id": "92def75f",
   "metadata": {},
   "outputs": [],
   "source": [
    "test2=pd.DataFrame({\"FLIGHT\":flight1,\"FLIGHT No\":flightno1,\"DEPARTURE\":departure1,\"FROM\":from1,\"ARRIVAL\":arrival1,\"STOP\":stop1,\"FARE\":fare1})\n",
    "test2"
   ]
  },
  {
   "cell_type": "code",
   "execution_count": null,
   "id": "6c534fe6",
   "metadata": {},
   "outputs": [],
   "source": [
    "file_name='TEST DATA1'"
   ]
  },
  {
   "cell_type": "code",
   "execution_count": null,
   "id": "282def33",
   "metadata": {},
   "outputs": [],
   "source": [
    "test2.to_excel(file_name,engine='xlsxwriter')"
   ]
  }
 ],
 "metadata": {
  "kernelspec": {
   "display_name": "Python 3 (ipykernel)",
   "language": "python",
   "name": "python3"
  },
  "language_info": {
   "codemirror_mode": {
    "name": "ipython",
    "version": 3
   },
   "file_extension": ".py",
   "mimetype": "text/x-python",
   "name": "python",
   "nbconvert_exporter": "python",
   "pygments_lexer": "ipython3",
   "version": "3.8.8"
  },
  "varInspector": {
   "cols": {
    "lenName": 16,
    "lenType": 16,
    "lenVar": 40
   },
   "kernels_config": {
    "python": {
     "delete_cmd_postfix": "",
     "delete_cmd_prefix": "del ",
     "library": "var_list.py",
     "varRefreshCmd": "print(var_dic_list())"
    },
    "r": {
     "delete_cmd_postfix": ") ",
     "delete_cmd_prefix": "rm(",
     "library": "var_list.r",
     "varRefreshCmd": "cat(var_dic_list()) "
    }
   },
   "types_to_exclude": [
    "module",
    "function",
    "builtin_function_or_method",
    "instance",
    "_Feature"
   ],
   "window_display": false
  }
 },
 "nbformat": 4,
 "nbformat_minor": 5
}
